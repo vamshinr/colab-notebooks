{
  "nbformat": 4,
  "nbformat_minor": 0,
  "metadata": {
    "colab": {
      "provenance": [],
      "mount_file_id": "1hUdbCmY_Su7XnFg_oMyY1F6sOMjePjQf",
      "authorship_tag": "ABX9TyN3drFl+y610RKqdbay7oju",
      "include_colab_link": true
    },
    "kernelspec": {
      "name": "python3",
      "display_name": "Python 3"
    },
    "language_info": {
      "name": "python"
    }
  },
  "cells": [
    {
      "cell_type": "markdown",
      "metadata": {
        "id": "view-in-github",
        "colab_type": "text"
      },
      "source": [
        "<a href=\"https://colab.research.google.com/github/vamshinr/colab-notebooks/blob/main/project3_215.ipynb\" target=\"_parent\"><img src=\"https://colab.research.google.com/assets/colab-badge.svg\" alt=\"Open In Colab\"/></a>"
      ]
    },
    {
      "cell_type": "code",
      "execution_count": 6,
      "metadata": {
        "id": "JQyS5J6PHKZM"
      },
      "outputs": [],
      "source": [
        "import pandas as pd"
      ]
    },
    {
      "cell_type": "code",
      "source": [
        "df_tweet = pd.read_csv(\"tweet_features.csv\")"
      ],
      "metadata": {
        "id": "W0d3bCKvHYbU"
      },
      "execution_count": 7,
      "outputs": []
    },
    {
      "cell_type": "code",
      "source": [
        "df_tweet.head(1)"
      ],
      "metadata": {
        "colab": {
          "base_uri": "https://localhost:8080/",
          "height": 145
        },
        "id": "AKuAb1vcHeRT",
        "outputId": "f093a6ca-3ed3-4aab-ac65-a30f5af53ed7"
      },
      "execution_count": 8,
      "outputs": [
        {
          "output_type": "execute_result",
          "data": {
            "text/plain": [
              "             tweet_id   num_words   text_length   contains_questmark  \\\n",
              "0  263046056240115712          22           134                 True   \n",
              "\n",
              "    num_questmark   contains_exclammark   num_exclammark   contains_happyemo  \\\n",
              "0               1                 False                0               False   \n",
              "\n",
              "    contains_sademo  contains_firstorderpron  contains_secondorderpron  \\\n",
              "0             False                    False                     False   \n",
              "\n",
              "   contains_thirdorderpron   num_uppercasechars   num_possentiwords  \\\n",
              "0                     True                    3                 0.0   \n",
              "\n",
              "    num_negsentiwords   num_mentions   num_hashtags   num_URLs   num_retweets  \n",
              "0                 0.0              0              1          1              0  "
            ],
            "text/html": [
              "\n",
              "  <div id=\"df-013a1c4b-95a4-46b3-aed8-d1003f96fb65\">\n",
              "    <div class=\"colab-df-container\">\n",
              "      <div>\n",
              "<style scoped>\n",
              "    .dataframe tbody tr th:only-of-type {\n",
              "        vertical-align: middle;\n",
              "    }\n",
              "\n",
              "    .dataframe tbody tr th {\n",
              "        vertical-align: top;\n",
              "    }\n",
              "\n",
              "    .dataframe thead th {\n",
              "        text-align: right;\n",
              "    }\n",
              "</style>\n",
              "<table border=\"1\" class=\"dataframe\">\n",
              "  <thead>\n",
              "    <tr style=\"text-align: right;\">\n",
              "      <th></th>\n",
              "      <th>tweet_id</th>\n",
              "      <th>num_words</th>\n",
              "      <th>text_length</th>\n",
              "      <th>contains_questmark</th>\n",
              "      <th>num_questmark</th>\n",
              "      <th>contains_exclammark</th>\n",
              "      <th>num_exclammark</th>\n",
              "      <th>contains_happyemo</th>\n",
              "      <th>contains_sademo</th>\n",
              "      <th>contains_firstorderpron</th>\n",
              "      <th>contains_secondorderpron</th>\n",
              "      <th>contains_thirdorderpron</th>\n",
              "      <th>num_uppercasechars</th>\n",
              "      <th>num_possentiwords</th>\n",
              "      <th>num_negsentiwords</th>\n",
              "      <th>num_mentions</th>\n",
              "      <th>num_hashtags</th>\n",
              "      <th>num_URLs</th>\n",
              "      <th>num_retweets</th>\n",
              "    </tr>\n",
              "  </thead>\n",
              "  <tbody>\n",
              "    <tr>\n",
              "      <th>0</th>\n",
              "      <td>263046056240115712</td>\n",
              "      <td>22</td>\n",
              "      <td>134</td>\n",
              "      <td>True</td>\n",
              "      <td>1</td>\n",
              "      <td>False</td>\n",
              "      <td>0</td>\n",
              "      <td>False</td>\n",
              "      <td>False</td>\n",
              "      <td>False</td>\n",
              "      <td>False</td>\n",
              "      <td>True</td>\n",
              "      <td>3</td>\n",
              "      <td>0.0</td>\n",
              "      <td>0.0</td>\n",
              "      <td>0</td>\n",
              "      <td>1</td>\n",
              "      <td>1</td>\n",
              "      <td>0</td>\n",
              "    </tr>\n",
              "  </tbody>\n",
              "</table>\n",
              "</div>\n",
              "      <button class=\"colab-df-convert\" onclick=\"convertToInteractive('df-013a1c4b-95a4-46b3-aed8-d1003f96fb65')\"\n",
              "              title=\"Convert this dataframe to an interactive table.\"\n",
              "              style=\"display:none;\">\n",
              "        \n",
              "  <svg xmlns=\"http://www.w3.org/2000/svg\" height=\"24px\"viewBox=\"0 0 24 24\"\n",
              "       width=\"24px\">\n",
              "    <path d=\"M0 0h24v24H0V0z\" fill=\"none\"/>\n",
              "    <path d=\"M18.56 5.44l.94 2.06.94-2.06 2.06-.94-2.06-.94-.94-2.06-.94 2.06-2.06.94zm-11 1L8.5 8.5l.94-2.06 2.06-.94-2.06-.94L8.5 2.5l-.94 2.06-2.06.94zm10 10l.94 2.06.94-2.06 2.06-.94-2.06-.94-.94-2.06-.94 2.06-2.06.94z\"/><path d=\"M17.41 7.96l-1.37-1.37c-.4-.4-.92-.59-1.43-.59-.52 0-1.04.2-1.43.59L10.3 9.45l-7.72 7.72c-.78.78-.78 2.05 0 2.83L4 21.41c.39.39.9.59 1.41.59.51 0 1.02-.2 1.41-.59l7.78-7.78 2.81-2.81c.8-.78.8-2.07 0-2.86zM5.41 20L4 18.59l7.72-7.72 1.47 1.35L5.41 20z\"/>\n",
              "  </svg>\n",
              "      </button>\n",
              "      \n",
              "  <style>\n",
              "    .colab-df-container {\n",
              "      display:flex;\n",
              "      flex-wrap:wrap;\n",
              "      gap: 12px;\n",
              "    }\n",
              "\n",
              "    .colab-df-convert {\n",
              "      background-color: #E8F0FE;\n",
              "      border: none;\n",
              "      border-radius: 50%;\n",
              "      cursor: pointer;\n",
              "      display: none;\n",
              "      fill: #1967D2;\n",
              "      height: 32px;\n",
              "      padding: 0 0 0 0;\n",
              "      width: 32px;\n",
              "    }\n",
              "\n",
              "    .colab-df-convert:hover {\n",
              "      background-color: #E2EBFA;\n",
              "      box-shadow: 0px 1px 2px rgba(60, 64, 67, 0.3), 0px 1px 3px 1px rgba(60, 64, 67, 0.15);\n",
              "      fill: #174EA6;\n",
              "    }\n",
              "\n",
              "    [theme=dark] .colab-df-convert {\n",
              "      background-color: #3B4455;\n",
              "      fill: #D2E3FC;\n",
              "    }\n",
              "\n",
              "    [theme=dark] .colab-df-convert:hover {\n",
              "      background-color: #434B5C;\n",
              "      box-shadow: 0px 1px 3px 1px rgba(0, 0, 0, 0.15);\n",
              "      filter: drop-shadow(0px 1px 2px rgba(0, 0, 0, 0.3));\n",
              "      fill: #FFFFFF;\n",
              "    }\n",
              "  </style>\n",
              "\n",
              "      <script>\n",
              "        const buttonEl =\n",
              "          document.querySelector('#df-013a1c4b-95a4-46b3-aed8-d1003f96fb65 button.colab-df-convert');\n",
              "        buttonEl.style.display =\n",
              "          google.colab.kernel.accessAllowed ? 'block' : 'none';\n",
              "\n",
              "        async function convertToInteractive(key) {\n",
              "          const element = document.querySelector('#df-013a1c4b-95a4-46b3-aed8-d1003f96fb65');\n",
              "          const dataTable =\n",
              "            await google.colab.kernel.invokeFunction('convertToInteractive',\n",
              "                                                     [key], {});\n",
              "          if (!dataTable) return;\n",
              "\n",
              "          const docLinkHtml = 'Like what you see? Visit the ' +\n",
              "            '<a target=\"_blank\" href=https://colab.research.google.com/notebooks/data_table.ipynb>data table notebook</a>'\n",
              "            + ' to learn more about interactive tables.';\n",
              "          element.innerHTML = '';\n",
              "          dataTable['output_type'] = 'display_data';\n",
              "          await google.colab.output.renderOutput(dataTable, element);\n",
              "          const docLink = document.createElement('div');\n",
              "          docLink.innerHTML = docLinkHtml;\n",
              "          element.appendChild(docLink);\n",
              "        }\n",
              "      </script>\n",
              "    </div>\n",
              "  </div>\n",
              "  "
            ]
          },
          "metadata": {},
          "execution_count": 8
        }
      ]
    },
    {
      "cell_type": "code",
      "source": [
        "df_user = pd.read_csv(\"user_features.csv\")"
      ],
      "metadata": {
        "id": "ECyZPD2UHfSL"
      },
      "execution_count": 9,
      "outputs": []
    },
    {
      "cell_type": "code",
      "source": [
        "df_user.head(1)"
      ],
      "metadata": {
        "colab": {
          "base_uri": "https://localhost:8080/",
          "height": 81
        },
        "id": "Znq6N8K5Hmof",
        "outputId": "1d8ea095-586b-414d-97d4-7fcc1b3e15f0"
      },
      "execution_count": 10,
      "outputs": [
        {
          "output_type": "execute_result",
          "data": {
            "text/plain": [
              "             tweet_id   num_friends   num_followers   folfriend_ratio  \\\n",
              "0  263046056240115712           283            1651          5.833922   \n",
              "\n",
              "    times_listed   has_url   is_verified   num_tweets  \n",
              "0             64     False         False        43811  "
            ],
            "text/html": [
              "\n",
              "  <div id=\"df-0293029d-cafd-40fa-bf38-aad5908355cc\">\n",
              "    <div class=\"colab-df-container\">\n",
              "      <div>\n",
              "<style scoped>\n",
              "    .dataframe tbody tr th:only-of-type {\n",
              "        vertical-align: middle;\n",
              "    }\n",
              "\n",
              "    .dataframe tbody tr th {\n",
              "        vertical-align: top;\n",
              "    }\n",
              "\n",
              "    .dataframe thead th {\n",
              "        text-align: right;\n",
              "    }\n",
              "</style>\n",
              "<table border=\"1\" class=\"dataframe\">\n",
              "  <thead>\n",
              "    <tr style=\"text-align: right;\">\n",
              "      <th></th>\n",
              "      <th>tweet_id</th>\n",
              "      <th>num_friends</th>\n",
              "      <th>num_followers</th>\n",
              "      <th>folfriend_ratio</th>\n",
              "      <th>times_listed</th>\n",
              "      <th>has_url</th>\n",
              "      <th>is_verified</th>\n",
              "      <th>num_tweets</th>\n",
              "    </tr>\n",
              "  </thead>\n",
              "  <tbody>\n",
              "    <tr>\n",
              "      <th>0</th>\n",
              "      <td>263046056240115712</td>\n",
              "      <td>283</td>\n",
              "      <td>1651</td>\n",
              "      <td>5.833922</td>\n",
              "      <td>64</td>\n",
              "      <td>False</td>\n",
              "      <td>False</td>\n",
              "      <td>43811</td>\n",
              "    </tr>\n",
              "  </tbody>\n",
              "</table>\n",
              "</div>\n",
              "      <button class=\"colab-df-convert\" onclick=\"convertToInteractive('df-0293029d-cafd-40fa-bf38-aad5908355cc')\"\n",
              "              title=\"Convert this dataframe to an interactive table.\"\n",
              "              style=\"display:none;\">\n",
              "        \n",
              "  <svg xmlns=\"http://www.w3.org/2000/svg\" height=\"24px\"viewBox=\"0 0 24 24\"\n",
              "       width=\"24px\">\n",
              "    <path d=\"M0 0h24v24H0V0z\" fill=\"none\"/>\n",
              "    <path d=\"M18.56 5.44l.94 2.06.94-2.06 2.06-.94-2.06-.94-.94-2.06-.94 2.06-2.06.94zm-11 1L8.5 8.5l.94-2.06 2.06-.94-2.06-.94L8.5 2.5l-.94 2.06-2.06.94zm10 10l.94 2.06.94-2.06 2.06-.94-2.06-.94-.94-2.06-.94 2.06-2.06.94z\"/><path d=\"M17.41 7.96l-1.37-1.37c-.4-.4-.92-.59-1.43-.59-.52 0-1.04.2-1.43.59L10.3 9.45l-7.72 7.72c-.78.78-.78 2.05 0 2.83L4 21.41c.39.39.9.59 1.41.59.51 0 1.02-.2 1.41-.59l7.78-7.78 2.81-2.81c.8-.78.8-2.07 0-2.86zM5.41 20L4 18.59l7.72-7.72 1.47 1.35L5.41 20z\"/>\n",
              "  </svg>\n",
              "      </button>\n",
              "      \n",
              "  <style>\n",
              "    .colab-df-container {\n",
              "      display:flex;\n",
              "      flex-wrap:wrap;\n",
              "      gap: 12px;\n",
              "    }\n",
              "\n",
              "    .colab-df-convert {\n",
              "      background-color: #E8F0FE;\n",
              "      border: none;\n",
              "      border-radius: 50%;\n",
              "      cursor: pointer;\n",
              "      display: none;\n",
              "      fill: #1967D2;\n",
              "      height: 32px;\n",
              "      padding: 0 0 0 0;\n",
              "      width: 32px;\n",
              "    }\n",
              "\n",
              "    .colab-df-convert:hover {\n",
              "      background-color: #E2EBFA;\n",
              "      box-shadow: 0px 1px 2px rgba(60, 64, 67, 0.3), 0px 1px 3px 1px rgba(60, 64, 67, 0.15);\n",
              "      fill: #174EA6;\n",
              "    }\n",
              "\n",
              "    [theme=dark] .colab-df-convert {\n",
              "      background-color: #3B4455;\n",
              "      fill: #D2E3FC;\n",
              "    }\n",
              "\n",
              "    [theme=dark] .colab-df-convert:hover {\n",
              "      background-color: #434B5C;\n",
              "      box-shadow: 0px 1px 3px 1px rgba(0, 0, 0, 0.15);\n",
              "      filter: drop-shadow(0px 1px 2px rgba(0, 0, 0, 0.3));\n",
              "      fill: #FFFFFF;\n",
              "    }\n",
              "  </style>\n",
              "\n",
              "      <script>\n",
              "        const buttonEl =\n",
              "          document.querySelector('#df-0293029d-cafd-40fa-bf38-aad5908355cc button.colab-df-convert');\n",
              "        buttonEl.style.display =\n",
              "          google.colab.kernel.accessAllowed ? 'block' : 'none';\n",
              "\n",
              "        async function convertToInteractive(key) {\n",
              "          const element = document.querySelector('#df-0293029d-cafd-40fa-bf38-aad5908355cc');\n",
              "          const dataTable =\n",
              "            await google.colab.kernel.invokeFunction('convertToInteractive',\n",
              "                                                     [key], {});\n",
              "          if (!dataTable) return;\n",
              "\n",
              "          const docLinkHtml = 'Like what you see? Visit the ' +\n",
              "            '<a target=\"_blank\" href=https://colab.research.google.com/notebooks/data_table.ipynb>data table notebook</a>'\n",
              "            + ' to learn more about interactive tables.';\n",
              "          element.innerHTML = '';\n",
              "          dataTable['output_type'] = 'display_data';\n",
              "          await google.colab.output.renderOutput(dataTable, element);\n",
              "          const docLink = document.createElement('div');\n",
              "          docLink.innerHTML = docLinkHtml;\n",
              "          element.appendChild(docLink);\n",
              "        }\n",
              "      </script>\n",
              "    </div>\n",
              "  </div>\n",
              "  "
            ]
          },
          "metadata": {},
          "execution_count": 10
        }
      ]
    },
    {
      "cell_type": "code",
      "source": [
        "len(df_user)"
      ],
      "metadata": {
        "colab": {
          "base_uri": "https://localhost:8080/"
        },
        "id": "Vq8_QsEPHqHR",
        "outputId": "e63c4a8d-4975-4864-d83a-b5cd22717820"
      },
      "execution_count": 11,
      "outputs": [
        {
          "output_type": "execute_result",
          "data": {
            "text/plain": [
              "14483"
            ]
          },
          "metadata": {},
          "execution_count": 11
        }
      ]
    },
    {
      "cell_type": "code",
      "source": [
        "data = []\n",
        "with open(\"tweets.txt\",\"r\") as f:\n",
        "    data = f.readlines()"
      ],
      "metadata": {
        "id": "9UCf4Rl5Hsx5"
      },
      "execution_count": 12,
      "outputs": []
    },
    {
      "cell_type": "code",
      "source": [
        "tweets_data = []\n",
        "for d in data[1:]:\n",
        "    temp = d.strip(\"\\n\")\n",
        "    temp = temp.split(\"\\t\")\n",
        "    tweets_data.append(temp)"
      ],
      "metadata": {
        "id": "mmihHnX2LSeL"
      },
      "execution_count": 13,
      "outputs": []
    },
    {
      "cell_type": "code",
      "source": [
        "cols = data[0].strip(\"\\n\").split(\"\\t\")\n",
        "df_tweets = pd.DataFrame(tweets_data,columns=cols)"
      ],
      "metadata": {
        "id": "7H4yTQ3BLefR"
      },
      "execution_count": 14,
      "outputs": []
    },
    {
      "cell_type": "code",
      "source": [
        "df_tweets.head()"
      ],
      "metadata": {
        "colab": {
          "base_uri": "https://localhost:8080/",
          "height": 337
        },
        "id": "l2eTrbS1MOcG",
        "outputId": "5460aa2c-cbed-4903-adc0-434cb3d0560f"
      },
      "execution_count": 15,
      "outputs": [
        {
          "output_type": "execute_result",
          "data": {
            "text/plain": [
              "              tweetId                                          tweetText  \\\n",
              "0  263046056240115712  ¿Se acuerdan de la película: “El día después d...   \n",
              "1  262995061304852481  @milenagimon: Miren a Sandy en NY!  Tremenda i...   \n",
              "2  262979898002534400  Buena la foto del Huracán Sandy, me recuerda a...   \n",
              "3  262996108400271360     Scary shit #hurricane #NY http://t.co/e4JLBUfH   \n",
              "4  263018881839411200  My fave place in the world #nyc #hurricane #sa...   \n",
              "\n",
              "      userId      imageId(s)        username                       timestamp  \\\n",
              "0   21226711  sandyA_fake_46         iAnnieM  Mon Oct 29 22:34:01 +0000 2012   \n",
              "1  192378571  sandyA_fake_09  CarlosVerareal  Mon Oct 29 19:11:23 +0000 2012   \n",
              "2  132303095  sandyA_fake_09     LucasPalape  Mon Oct 29 18:11:08 +0000 2012   \n",
              "3  241995902  sandyA_fake_29     Haaaaarryyy  Mon Oct 29 19:15:33 +0000 2012   \n",
              "4  250315890  sandyA_fake_15  princess__natt  Mon Oct 29 20:46:02 +0000 2012   \n",
              "\n",
              "  label  \n",
              "0  fake  \n",
              "1  fake  \n",
              "2  fake  \n",
              "3  fake  \n",
              "4  fake  "
            ],
            "text/html": [
              "\n",
              "  <div id=\"df-525c7805-7136-4d3a-a802-322b3598231c\">\n",
              "    <div class=\"colab-df-container\">\n",
              "      <div>\n",
              "<style scoped>\n",
              "    .dataframe tbody tr th:only-of-type {\n",
              "        vertical-align: middle;\n",
              "    }\n",
              "\n",
              "    .dataframe tbody tr th {\n",
              "        vertical-align: top;\n",
              "    }\n",
              "\n",
              "    .dataframe thead th {\n",
              "        text-align: right;\n",
              "    }\n",
              "</style>\n",
              "<table border=\"1\" class=\"dataframe\">\n",
              "  <thead>\n",
              "    <tr style=\"text-align: right;\">\n",
              "      <th></th>\n",
              "      <th>tweetId</th>\n",
              "      <th>tweetText</th>\n",
              "      <th>userId</th>\n",
              "      <th>imageId(s)</th>\n",
              "      <th>username</th>\n",
              "      <th>timestamp</th>\n",
              "      <th>label</th>\n",
              "    </tr>\n",
              "  </thead>\n",
              "  <tbody>\n",
              "    <tr>\n",
              "      <th>0</th>\n",
              "      <td>263046056240115712</td>\n",
              "      <td>¿Se acuerdan de la película: “El día después d...</td>\n",
              "      <td>21226711</td>\n",
              "      <td>sandyA_fake_46</td>\n",
              "      <td>iAnnieM</td>\n",
              "      <td>Mon Oct 29 22:34:01 +0000 2012</td>\n",
              "      <td>fake</td>\n",
              "    </tr>\n",
              "    <tr>\n",
              "      <th>1</th>\n",
              "      <td>262995061304852481</td>\n",
              "      <td>@milenagimon: Miren a Sandy en NY!  Tremenda i...</td>\n",
              "      <td>192378571</td>\n",
              "      <td>sandyA_fake_09</td>\n",
              "      <td>CarlosVerareal</td>\n",
              "      <td>Mon Oct 29 19:11:23 +0000 2012</td>\n",
              "      <td>fake</td>\n",
              "    </tr>\n",
              "    <tr>\n",
              "      <th>2</th>\n",
              "      <td>262979898002534400</td>\n",
              "      <td>Buena la foto del Huracán Sandy, me recuerda a...</td>\n",
              "      <td>132303095</td>\n",
              "      <td>sandyA_fake_09</td>\n",
              "      <td>LucasPalape</td>\n",
              "      <td>Mon Oct 29 18:11:08 +0000 2012</td>\n",
              "      <td>fake</td>\n",
              "    </tr>\n",
              "    <tr>\n",
              "      <th>3</th>\n",
              "      <td>262996108400271360</td>\n",
              "      <td>Scary shit #hurricane #NY http://t.co/e4JLBUfH</td>\n",
              "      <td>241995902</td>\n",
              "      <td>sandyA_fake_29</td>\n",
              "      <td>Haaaaarryyy</td>\n",
              "      <td>Mon Oct 29 19:15:33 +0000 2012</td>\n",
              "      <td>fake</td>\n",
              "    </tr>\n",
              "    <tr>\n",
              "      <th>4</th>\n",
              "      <td>263018881839411200</td>\n",
              "      <td>My fave place in the world #nyc #hurricane #sa...</td>\n",
              "      <td>250315890</td>\n",
              "      <td>sandyA_fake_15</td>\n",
              "      <td>princess__natt</td>\n",
              "      <td>Mon Oct 29 20:46:02 +0000 2012</td>\n",
              "      <td>fake</td>\n",
              "    </tr>\n",
              "  </tbody>\n",
              "</table>\n",
              "</div>\n",
              "      <button class=\"colab-df-convert\" onclick=\"convertToInteractive('df-525c7805-7136-4d3a-a802-322b3598231c')\"\n",
              "              title=\"Convert this dataframe to an interactive table.\"\n",
              "              style=\"display:none;\">\n",
              "        \n",
              "  <svg xmlns=\"http://www.w3.org/2000/svg\" height=\"24px\"viewBox=\"0 0 24 24\"\n",
              "       width=\"24px\">\n",
              "    <path d=\"M0 0h24v24H0V0z\" fill=\"none\"/>\n",
              "    <path d=\"M18.56 5.44l.94 2.06.94-2.06 2.06-.94-2.06-.94-.94-2.06-.94 2.06-2.06.94zm-11 1L8.5 8.5l.94-2.06 2.06-.94-2.06-.94L8.5 2.5l-.94 2.06-2.06.94zm10 10l.94 2.06.94-2.06 2.06-.94-2.06-.94-.94-2.06-.94 2.06-2.06.94z\"/><path d=\"M17.41 7.96l-1.37-1.37c-.4-.4-.92-.59-1.43-.59-.52 0-1.04.2-1.43.59L10.3 9.45l-7.72 7.72c-.78.78-.78 2.05 0 2.83L4 21.41c.39.39.9.59 1.41.59.51 0 1.02-.2 1.41-.59l7.78-7.78 2.81-2.81c.8-.78.8-2.07 0-2.86zM5.41 20L4 18.59l7.72-7.72 1.47 1.35L5.41 20z\"/>\n",
              "  </svg>\n",
              "      </button>\n",
              "      \n",
              "  <style>\n",
              "    .colab-df-container {\n",
              "      display:flex;\n",
              "      flex-wrap:wrap;\n",
              "      gap: 12px;\n",
              "    }\n",
              "\n",
              "    .colab-df-convert {\n",
              "      background-color: #E8F0FE;\n",
              "      border: none;\n",
              "      border-radius: 50%;\n",
              "      cursor: pointer;\n",
              "      display: none;\n",
              "      fill: #1967D2;\n",
              "      height: 32px;\n",
              "      padding: 0 0 0 0;\n",
              "      width: 32px;\n",
              "    }\n",
              "\n",
              "    .colab-df-convert:hover {\n",
              "      background-color: #E2EBFA;\n",
              "      box-shadow: 0px 1px 2px rgba(60, 64, 67, 0.3), 0px 1px 3px 1px rgba(60, 64, 67, 0.15);\n",
              "      fill: #174EA6;\n",
              "    }\n",
              "\n",
              "    [theme=dark] .colab-df-convert {\n",
              "      background-color: #3B4455;\n",
              "      fill: #D2E3FC;\n",
              "    }\n",
              "\n",
              "    [theme=dark] .colab-df-convert:hover {\n",
              "      background-color: #434B5C;\n",
              "      box-shadow: 0px 1px 3px 1px rgba(0, 0, 0, 0.15);\n",
              "      filter: drop-shadow(0px 1px 2px rgba(0, 0, 0, 0.3));\n",
              "      fill: #FFFFFF;\n",
              "    }\n",
              "  </style>\n",
              "\n",
              "      <script>\n",
              "        const buttonEl =\n",
              "          document.querySelector('#df-525c7805-7136-4d3a-a802-322b3598231c button.colab-df-convert');\n",
              "        buttonEl.style.display =\n",
              "          google.colab.kernel.accessAllowed ? 'block' : 'none';\n",
              "\n",
              "        async function convertToInteractive(key) {\n",
              "          const element = document.querySelector('#df-525c7805-7136-4d3a-a802-322b3598231c');\n",
              "          const dataTable =\n",
              "            await google.colab.kernel.invokeFunction('convertToInteractive',\n",
              "                                                     [key], {});\n",
              "          if (!dataTable) return;\n",
              "\n",
              "          const docLinkHtml = 'Like what you see? Visit the ' +\n",
              "            '<a target=\"_blank\" href=https://colab.research.google.com/notebooks/data_table.ipynb>data table notebook</a>'\n",
              "            + ' to learn more about interactive tables.';\n",
              "          element.innerHTML = '';\n",
              "          dataTable['output_type'] = 'display_data';\n",
              "          await google.colab.output.renderOutput(dataTable, element);\n",
              "          const docLink = document.createElement('div');\n",
              "          docLink.innerHTML = docLinkHtml;\n",
              "          element.appendChild(docLink);\n",
              "        }\n",
              "      </script>\n",
              "    </div>\n",
              "  </div>\n",
              "  "
            ]
          },
          "metadata": {},
          "execution_count": 15
        }
      ]
    },
    {
      "cell_type": "code",
      "source": [
        "df_tweets.label.value_counts()"
      ],
      "metadata": {
        "colab": {
          "base_uri": "https://localhost:8080/"
        },
        "id": "S3fdDXybMkIG",
        "outputId": "6b2f4938-a80d-41da-a5cb-6c732057275d"
      },
      "execution_count": 16,
      "outputs": [
        {
          "output_type": "execute_result",
          "data": {
            "text/plain": [
              "fake     6841\n",
              "real     5009\n",
              "humor    2633\n",
              "Name: label, dtype: int64"
            ]
          },
          "metadata": {},
          "execution_count": 16
        }
      ]
    },
    {
      "cell_type": "code",
      "source": [
        "df_tweets = df_tweets[df_tweets['label']!='humor']"
      ],
      "metadata": {
        "id": "xuQ4yGyxMo1m"
      },
      "execution_count": 17,
      "outputs": []
    },
    {
      "cell_type": "code",
      "source": [
        "df_tweets.label.value_counts()"
      ],
      "metadata": {
        "colab": {
          "base_uri": "https://localhost:8080/"
        },
        "id": "S4xKYaP6MzlE",
        "outputId": "aec8891e-4723-4f35-da21-4ca86080567d"
      },
      "execution_count": 18,
      "outputs": [
        {
          "output_type": "execute_result",
          "data": {
            "text/plain": [
              "fake    6841\n",
              "real    5009\n",
              "Name: label, dtype: int64"
            ]
          },
          "metadata": {},
          "execution_count": 18
        }
      ]
    },
    {
      "cell_type": "code",
      "source": [
        "df_tweets[\"imageId(s)\"].value_counts()"
      ],
      "metadata": {
        "colab": {
          "base_uri": "https://localhost:8080/"
        },
        "id": "U0gYTo4vMRzk",
        "outputId": "d124f088-4010-46ce-d052-dbe93e586d8c"
      },
      "execution_count": 19,
      "outputs": [
        {
          "output_type": "execute_result",
          "data": {
            "text/plain": [
              "sandyA_fake_29                   1051\n",
              "sandyB_real_59                    634\n",
              "sandyA_fake_11                    622\n",
              "sandyB_real_71                    585\n",
              "sandyA_fake_08                    413\n",
              "                                 ... \n",
              "boston_fake_21                      1\n",
              "boston_fake_11                      1\n",
              "boston_fake_28                      1\n",
              "boston_fake_33                      1\n",
              "boston_fake_01,boston_fake_17       1\n",
              "Name: imageId(s), Length: 353, dtype: int64"
            ]
          },
          "metadata": {},
          "execution_count": 19
        }
      ]
    },
    {
      "cell_type": "code",
      "source": [
        "df_tweets.dropna(inplace=True)\n",
        "df_tweets.reset_index(inplace=True)"
      ],
      "metadata": {
        "id": "-eum5VhkM75F"
      },
      "execution_count": 20,
      "outputs": []
    },
    {
      "cell_type": "code",
      "source": [
        "# Pre-Processing\n",
        "df_tweets['tweetText'] = df_tweets['tweetText'].apply(lambda x: x.lower())"
      ],
      "metadata": {
        "id": "wYAqWtQuPF8P"
      },
      "execution_count": 21,
      "outputs": []
    },
    {
      "cell_type": "code",
      "source": [
        "df_tweets['target'] = df_tweets['label'].apply(lambda x: 0 if x == \"fake\" else 1)"
      ],
      "metadata": {
        "id": "PhLkSIEVSXiY"
      },
      "execution_count": 22,
      "outputs": []
    },
    {
      "cell_type": "code",
      "source": [
        "df_tweets.target.value_counts()"
      ],
      "metadata": {
        "colab": {
          "base_uri": "https://localhost:8080/"
        },
        "id": "hEJFnNPwSpw3",
        "outputId": "b7ba57e9-06f0-4ed1-ebed-0e27ba64b883"
      },
      "execution_count": 23,
      "outputs": [
        {
          "output_type": "execute_result",
          "data": {
            "text/plain": [
              "0    6841\n",
              "1    5009\n",
              "Name: target, dtype: int64"
            ]
          },
          "metadata": {},
          "execution_count": 23
        }
      ]
    },
    {
      "cell_type": "code",
      "source": [
        "from tensorflow.keras.preprocessing.text import Tokenizer\n",
        "from tensorflow.keras.preprocessing.sequence import pad_sequences"
      ],
      "metadata": {
        "id": "LuME9-vdSsd1"
      },
      "execution_count": 24,
      "outputs": []
    },
    {
      "cell_type": "code",
      "source": [
        "tokenizer = Tokenizer()"
      ],
      "metadata": {
        "id": "Rd4-MN1CS3sW"
      },
      "execution_count": 25,
      "outputs": []
    },
    {
      "cell_type": "code",
      "source": [
        "tokenizer.fit_on_texts(df_tweets['tweetText'].values)\n",
        "vocab_size = len(tokenizer.word_index) + 1\n",
        "print(\"Vocabulary Size :- \",vocab_size)\n",
        "X = tokenizer.texts_to_sequences(df_tweets['tweetText'].values)"
      ],
      "metadata": {
        "colab": {
          "base_uri": "https://localhost:8080/"
        },
        "id": "36DtdI_KTf2h",
        "outputId": "5f8a4b6d-c28b-4347-c1f8-66d34d9fe5a0"
      },
      "execution_count": 26,
      "outputs": [
        {
          "output_type": "stream",
          "name": "stdout",
          "text": [
            "Vocabulary Size :-  23535\n"
          ]
        }
      ]
    },
    {
      "cell_type": "code",
      "source": [
        "max_length = 100\n",
        "X = pad_sequences(X,maxlen = max_length, padding = 'post')"
      ],
      "metadata": {
        "id": "la11kfH9ToL5"
      },
      "execution_count": 27,
      "outputs": []
    },
    {
      "cell_type": "code",
      "source": [
        "\n",
        "y = pd.get_dummies(df_tweets['label']).values"
      ],
      "metadata": {
        "id": "p3mhM5ctTpi5"
      },
      "execution_count": 28,
      "outputs": []
    },
    {
      "cell_type": "code",
      "source": [
        "from sklearn.model_selection import train_test_split\n",
        "X_train, X_test, y_train, y_test = train_test_split(X, y, test_size=0.3,random_state=53)\n",
        "\n",
        "print(X_train.shape,y_train.shape)\n",
        "print(X_test.shape,y_test.shape)"
      ],
      "metadata": {
        "colab": {
          "base_uri": "https://localhost:8080/"
        },
        "id": "cOCvIhtPT6Uq",
        "outputId": "616020f3-efed-421e-c3cd-dfe2db48b04f"
      },
      "execution_count": 29,
      "outputs": [
        {
          "output_type": "stream",
          "name": "stdout",
          "text": [
            "(8295, 100) (8295, 2)\n",
            "(3555, 100) (3555, 2)\n"
          ]
        }
      ]
    },
    {
      "cell_type": "code",
      "source": [
        "#!wget http://nlp.stanford.edu/data/glove.6B.zip"
      ],
      "metadata": {
        "colab": {
          "base_uri": "https://localhost:8080/"
        },
        "id": "YuvnTcXSU_TQ",
        "outputId": "f10ed0ae-10cf-422d-a2a2-66101c8c099e"
      },
      "execution_count": 31,
      "outputs": [
        {
          "output_type": "stream",
          "name": "stdout",
          "text": [
            "--2023-03-24 19:04:50--  http://nlp.stanford.edu/data/glove.6B.zip\n",
            "Resolving nlp.stanford.edu (nlp.stanford.edu)... 171.64.67.140\n",
            "Connecting to nlp.stanford.edu (nlp.stanford.edu)|171.64.67.140|:80... connected.\n",
            "HTTP request sent, awaiting response... 302 Found\n",
            "Location: https://nlp.stanford.edu/data/glove.6B.zip [following]\n",
            "--2023-03-24 19:04:50--  https://nlp.stanford.edu/data/glove.6B.zip\n",
            "Connecting to nlp.stanford.edu (nlp.stanford.edu)|171.64.67.140|:443... connected.\n",
            "HTTP request sent, awaiting response... 301 Moved Permanently\n",
            "Location: https://downloads.cs.stanford.edu/nlp/data/glove.6B.zip [following]\n",
            "--2023-03-24 19:04:50--  https://downloads.cs.stanford.edu/nlp/data/glove.6B.zip\n",
            "Resolving downloads.cs.stanford.edu (downloads.cs.stanford.edu)... 171.64.64.22\n",
            "Connecting to downloads.cs.stanford.edu (downloads.cs.stanford.edu)|171.64.64.22|:443... connected.\n",
            "HTTP request sent, awaiting response... 200 OK\n",
            "Length: 862182613 (822M) [application/zip]\n",
            "Saving to: ‘glove.6B.zip’\n",
            "\n",
            "glove.6B.zip        100%[===================>] 822.24M  5.02MB/s    in 2m 39s  \n",
            "\n",
            "2023-03-24 19:07:30 (5.16 MB/s) - ‘glove.6B.zip’ saved [862182613/862182613]\n",
            "\n"
          ]
        }
      ]
    },
    {
      "cell_type": "code",
      "source": [
        "#!unzip glove*.zip"
      ],
      "metadata": {
        "colab": {
          "base_uri": "https://localhost:8080/"
        },
        "id": "PKnYANKLVLb0",
        "outputId": "166dac6e-81c0-4274-a601-b1b7ce30e179"
      },
      "execution_count": 32,
      "outputs": [
        {
          "output_type": "stream",
          "name": "stdout",
          "text": [
            "Archive:  glove.6B.zip\n",
            "  inflating: glove.6B.50d.txt        \n",
            "  inflating: glove.6B.100d.txt       \n",
            "  inflating: glove.6B.200d.txt       \n",
            "  inflating: glove.6B.300d.txt       \n"
          ]
        }
      ]
    },
    {
      "cell_type": "code",
      "source": [
        "import numpy as np\n",
        "\n",
        "embeddings_index = dict()\n",
        "f = open('glove.6B.200d.txt')\n",
        "for line in f:\n",
        "    values = line.split()\n",
        "    word = values[0]\n",
        "    coefs = np.asarray(values[1:], dtype='float32')\n",
        "    embeddings_index[word] = coefs\n",
        "f.close()\n",
        "print('Loaded %s word vectors.' % len(embeddings_index))\n",
        "\n",
        "\n",
        "embedding_matrix = np.zeros((vocab_size, 200))\n",
        "for word, i in tokenizer.word_index.items():\n",
        "    embedding_vector = embeddings_index.get(word)\n",
        "    if embedding_vector is not None:\n",
        "        embedding_matrix[i] = embedding_vector"
      ],
      "metadata": {
        "colab": {
          "base_uri": "https://localhost:8080/"
        },
        "id": "VE5pn3CRUGKm",
        "outputId": "3562736f-9e0d-47d5-9df1-df87a08f3b08"
      },
      "execution_count": 33,
      "outputs": [
        {
          "output_type": "stream",
          "name": "stdout",
          "text": [
            "Loaded 400000 word vectors.\n"
          ]
        }
      ]
    },
    {
      "cell_type": "code",
      "source": [
        "from tensorflow.keras.models import Sequential\n",
        "from tensorflow.keras.layers import Dense\n",
        "from tensorflow.keras.layers import Flatten\n",
        "from tensorflow.keras.layers import Embedding\n",
        "from tensorflow.keras.callbacks import EarlyStopping\n",
        "from tensorflow.keras.callbacks import ModelCheckpoint"
      ],
      "metadata": {
        "id": "Fao770RqV_A0"
      },
      "execution_count": 34,
      "outputs": []
    },
    {
      "cell_type": "code",
      "source": [
        "from keras.layers import Concatenate"
      ],
      "metadata": {
        "id": "VLRVnVDvasYE"
      },
      "execution_count": 35,
      "outputs": []
    },
    {
      "cell_type": "code",
      "source": [],
      "metadata": {
        "id": "_9wTXbT_atT0"
      },
      "execution_count": null,
      "outputs": []
    },
    {
      "cell_type": "code",
      "source": [
        "# checkpoint= ModelCheckpoint(filepath=\"proj3_1.hdf5\", verbose=1, save_best_only=True)\n",
        "\n",
        "# monitor = EarlyStopping(monitor='val_loss', min_delta=1e-5, patience=10, verbose=1, mode='auto')\n",
        "\n",
        "# textmodel = Sequential()\n",
        "# textmodel.add(Embedding(vocab_size, 200, weights=[embedding_matrix], input_length=max_length, trainable=False))\n",
        "# textmodel.add(Flatten())\n",
        "# textmodel.add(Dense(2, activation='sigmoid'))\n",
        "# # compile the model\n",
        "# textmodel.compile(optimizer='adam', loss='mean_squared_error', metrics=['accuracy'])\n",
        "# # summarize the model\n",
        "# print(textmodel.summary())"
      ],
      "metadata": {
        "colab": {
          "base_uri": "https://localhost:8080/"
        },
        "id": "D-famvuQUnuC",
        "outputId": "f5c31a3a-a0c2-4ed3-d64a-b88f06700632"
      },
      "execution_count": 29,
      "outputs": [
        {
          "output_type": "stream",
          "name": "stdout",
          "text": [
            "Model: \"sequential\"\n",
            "_________________________________________________________________\n",
            " Layer (type)                Output Shape              Param #   \n",
            "=================================================================\n",
            " embedding (Embedding)       (None, 100, 200)          4707000   \n",
            "                                                                 \n",
            " flatten (Flatten)           (None, 20000)             0         \n",
            "                                                                 \n",
            " dense (Dense)               (None, 2)                 40002     \n",
            "                                                                 \n",
            "=================================================================\n",
            "Total params: 4,747,002\n",
            "Trainable params: 40,002\n",
            "Non-trainable params: 4,707,000\n",
            "_________________________________________________________________\n",
            "None\n"
          ]
        }
      ]
    },
    {
      "cell_type": "code",
      "source": [
        "# model.fit(X_train, y_train, epochs=50, verbose=1, callbacks=[monitor,checkpoint], validation_data=(X_test,y_test))"
      ],
      "metadata": {
        "colab": {
          "base_uri": "https://localhost:8080/"
        },
        "id": "4XZHHEV8WXjM",
        "outputId": "7d75d7c6-2939-4997-acdb-4b2b28c02660"
      },
      "execution_count": 30,
      "outputs": [
        {
          "output_type": "stream",
          "name": "stdout",
          "text": [
            "Epoch 1/50\n",
            "256/260 [============================>.] - ETA: 0s - loss: 0.2024 - accuracy: 0.6840"
          ]
        },
        {
          "output_type": "stream",
          "name": "stderr",
          "text": [
            "WARNING:tensorflow:Early stopping conditioned on metric `val_loss` which is not available. Available metrics are: loss,accuracy\n",
            "WARNING:tensorflow:Can save best model only with val_loss available, skipping.\n"
          ]
        },
        {
          "output_type": "stream",
          "name": "stdout",
          "text": [
            "\b\b\b\b\b\b\b\b\b\b\b\b\b\b\b\b\b\b\b\b\b\b\b\b\b\b\b\b\b\b\b\b\b\b\b\b\b\b\b\b\b\b\b\b\b\b\b\b\b\b\b\b\b\b\b\b\b\b\b\b\b\b\b\b\b\b\b\b\b\b\b\b\b\b\b\b\b\b\b\b\b\b\b\b\r260/260 [==============================] - 2s 6ms/step - loss: 0.2021 - accuracy: 0.6849\n",
            "Epoch 2/50\n",
            "250/260 [===========================>..] - ETA: 0s - loss: 0.1594 - accuracy: 0.7839"
          ]
        },
        {
          "output_type": "stream",
          "name": "stderr",
          "text": [
            "WARNING:tensorflow:Early stopping conditioned on metric `val_loss` which is not available. Available metrics are: loss,accuracy\n",
            "WARNING:tensorflow:Can save best model only with val_loss available, skipping.\n"
          ]
        },
        {
          "output_type": "stream",
          "name": "stdout",
          "text": [
            "\b\b\b\b\b\b\b\b\b\b\b\b\b\b\b\b\b\b\b\b\b\b\b\b\b\b\b\b\b\b\b\b\b\b\b\b\b\b\b\b\b\b\b\b\b\b\b\b\b\b\b\b\b\b\b\b\b\b\b\b\b\b\b\b\b\b\b\b\b\b\b\b\b\b\b\b\b\b\b\b\b\b\b\b\r260/260 [==============================] - 1s 6ms/step - loss: 0.1591 - accuracy: 0.7840\n",
            "Epoch 3/50\n",
            "254/260 [============================>.] - ETA: 0s - loss: 0.1423 - accuracy: 0.8081"
          ]
        },
        {
          "output_type": "stream",
          "name": "stderr",
          "text": [
            "WARNING:tensorflow:Early stopping conditioned on metric `val_loss` which is not available. Available metrics are: loss,accuracy\n",
            "WARNING:tensorflow:Can save best model only with val_loss available, skipping.\n"
          ]
        },
        {
          "output_type": "stream",
          "name": "stdout",
          "text": [
            "\b\b\b\b\b\b\b\b\b\b\b\b\b\b\b\b\b\b\b\b\b\b\b\b\b\b\b\b\b\b\b\b\b\b\b\b\b\b\b\b\b\b\b\b\b\b\b\b\b\b\b\b\b\b\b\b\b\b\b\b\b\b\b\b\b\b\b\b\b\b\b\b\b\b\b\b\b\b\b\b\b\b\b\b\r260/260 [==============================] - 1s 5ms/step - loss: 0.1423 - accuracy: 0.8086\n",
            "Epoch 4/50\n",
            "257/260 [============================>.] - ETA: 0s - loss: 0.1315 - accuracy: 0.8281"
          ]
        },
        {
          "output_type": "stream",
          "name": "stderr",
          "text": [
            "WARNING:tensorflow:Early stopping conditioned on metric `val_loss` which is not available. Available metrics are: loss,accuracy\n",
            "WARNING:tensorflow:Can save best model only with val_loss available, skipping.\n"
          ]
        },
        {
          "output_type": "stream",
          "name": "stdout",
          "text": [
            "\b\b\b\b\b\b\b\b\b\b\b\b\b\b\b\b\b\b\b\b\b\b\b\b\b\b\b\b\b\b\b\b\b\b\b\b\b\b\b\b\b\b\b\b\b\b\b\b\b\b\b\b\b\b\b\b\b\b\b\b\b\b\b\b\b\b\b\b\b\b\b\b\b\b\b\b\b\b\b\b\b\b\b\b\r260/260 [==============================] - 1s 5ms/step - loss: 0.1311 - accuracy: 0.8288\n",
            "Epoch 5/50\n",
            "253/260 [============================>.] - ETA: 0s - loss: 0.1238 - accuracy: 0.8391"
          ]
        },
        {
          "output_type": "stream",
          "name": "stderr",
          "text": [
            "WARNING:tensorflow:Early stopping conditioned on metric `val_loss` which is not available. Available metrics are: loss,accuracy\n",
            "WARNING:tensorflow:Can save best model only with val_loss available, skipping.\n"
          ]
        },
        {
          "output_type": "stream",
          "name": "stdout",
          "text": [
            "\b\b\b\b\b\b\b\b\b\b\b\b\b\b\b\b\b\b\b\b\b\b\b\b\b\b\b\b\b\b\b\b\b\b\b\b\b\b\b\b\b\b\b\b\b\b\b\b\b\b\b\b\b\b\b\b\b\b\b\b\b\b\b\b\b\b\b\b\b\b\b\b\b\b\b\b\b\b\b\b\b\b\b\b\r260/260 [==============================] - 1s 5ms/step - loss: 0.1239 - accuracy: 0.8387\n",
            "Epoch 6/50\n",
            "257/260 [============================>.] - ETA: 0s - loss: 0.1183 - accuracy: 0.8458"
          ]
        },
        {
          "output_type": "stream",
          "name": "stderr",
          "text": [
            "WARNING:tensorflow:Early stopping conditioned on metric `val_loss` which is not available. Available metrics are: loss,accuracy\n",
            "WARNING:tensorflow:Can save best model only with val_loss available, skipping.\n"
          ]
        },
        {
          "output_type": "stream",
          "name": "stdout",
          "text": [
            "\b\b\b\b\b\b\b\b\b\b\b\b\b\b\b\b\b\b\b\b\b\b\b\b\b\b\b\b\b\b\b\b\b\b\b\b\b\b\b\b\b\b\b\b\b\b\b\b\b\b\b\b\b\b\b\b\b\b\b\b\b\b\b\b\b\b\b\b\b\b\b\b\b\b\b\b\b\b\b\b\b\b\b\b\r260/260 [==============================] - 1s 5ms/step - loss: 0.1183 - accuracy: 0.8454\n",
            "Epoch 7/50\n",
            "256/260 [============================>.] - ETA: 0s - loss: 0.1128 - accuracy: 0.8553"
          ]
        },
        {
          "output_type": "stream",
          "name": "stderr",
          "text": [
            "WARNING:tensorflow:Early stopping conditioned on metric `val_loss` which is not available. Available metrics are: loss,accuracy\n",
            "WARNING:tensorflow:Can save best model only with val_loss available, skipping.\n"
          ]
        },
        {
          "output_type": "stream",
          "name": "stdout",
          "text": [
            "\b\b\b\b\b\b\b\b\b\b\b\b\b\b\b\b\b\b\b\b\b\b\b\b\b\b\b\b\b\b\b\b\b\b\b\b\b\b\b\b\b\b\b\b\b\b\b\b\b\b\b\b\b\b\b\b\b\b\b\b\b\b\b\b\b\b\b\b\b\b\b\b\b\b\b\b\b\b\b\b\b\b\b\b\r260/260 [==============================] - 1s 5ms/step - loss: 0.1127 - accuracy: 0.8555\n",
            "Epoch 8/50\n",
            "257/260 [============================>.] - ETA: 0s - loss: 0.1089 - accuracy: 0.8628"
          ]
        },
        {
          "output_type": "stream",
          "name": "stderr",
          "text": [
            "WARNING:tensorflow:Early stopping conditioned on metric `val_loss` which is not available. Available metrics are: loss,accuracy\n",
            "WARNING:tensorflow:Can save best model only with val_loss available, skipping.\n"
          ]
        },
        {
          "output_type": "stream",
          "name": "stdout",
          "text": [
            "\b\b\b\b\b\b\b\b\b\b\b\b\b\b\b\b\b\b\b\b\b\b\b\b\b\b\b\b\b\b\b\b\b\b\b\b\b\b\b\b\b\b\b\b\b\b\b\b\b\b\b\b\b\b\b\b\b\b\b\b\b\b\b\b\b\b\b\b\b\b\b\b\b\b\b\b\b\b\b\b\b\b\b\b\r260/260 [==============================] - 2s 8ms/step - loss: 0.1090 - accuracy: 0.8626\n",
            "Epoch 9/50\n",
            "255/260 [============================>.] - ETA: 0s - loss: 0.1050 - accuracy: 0.8685"
          ]
        },
        {
          "output_type": "stream",
          "name": "stderr",
          "text": [
            "WARNING:tensorflow:Early stopping conditioned on metric `val_loss` which is not available. Available metrics are: loss,accuracy\n",
            "WARNING:tensorflow:Can save best model only with val_loss available, skipping.\n"
          ]
        },
        {
          "output_type": "stream",
          "name": "stdout",
          "text": [
            "\b\b\b\b\b\b\b\b\b\b\b\b\b\b\b\b\b\b\b\b\b\b\b\b\b\b\b\b\b\b\b\b\b\b\b\b\b\b\b\b\b\b\b\b\b\b\b\b\b\b\b\b\b\b\b\b\b\b\b\b\b\b\b\b\b\b\b\b\b\b\b\b\b\b\b\b\b\b\b\b\b\b\b\b\r260/260 [==============================] - 2s 8ms/step - loss: 0.1053 - accuracy: 0.8681\n",
            "Epoch 10/50\n",
            "255/260 [============================>.] - ETA: 0s - loss: 0.1023 - accuracy: 0.8744"
          ]
        },
        {
          "output_type": "stream",
          "name": "stderr",
          "text": [
            "WARNING:tensorflow:Early stopping conditioned on metric `val_loss` which is not available. Available metrics are: loss,accuracy\n",
            "WARNING:tensorflow:Can save best model only with val_loss available, skipping.\n"
          ]
        },
        {
          "output_type": "stream",
          "name": "stdout",
          "text": [
            "\b\b\b\b\b\b\b\b\b\b\b\b\b\b\b\b\b\b\b\b\b\b\b\b\b\b\b\b\b\b\b\b\b\b\b\b\b\b\b\b\b\b\b\b\b\b\b\b\b\b\b\b\b\b\b\b\b\b\b\b\b\b\b\b\b\b\b\b\b\b\b\b\b\b\b\b\b\b\b\b\b\b\b\b\r260/260 [==============================] - 2s 6ms/step - loss: 0.1023 - accuracy: 0.8746\n",
            "Epoch 11/50\n",
            "251/260 [===========================>..] - ETA: 0s - loss: 0.0997 - accuracy: 0.8794"
          ]
        },
        {
          "output_type": "stream",
          "name": "stderr",
          "text": [
            "WARNING:tensorflow:Early stopping conditioned on metric `val_loss` which is not available. Available metrics are: loss,accuracy\n",
            "WARNING:tensorflow:Can save best model only with val_loss available, skipping.\n"
          ]
        },
        {
          "output_type": "stream",
          "name": "stdout",
          "text": [
            "\b\b\b\b\b\b\b\b\b\b\b\b\b\b\b\b\b\b\b\b\b\b\b\b\b\b\b\b\b\b\b\b\b\b\b\b\b\b\b\b\b\b\b\b\b\b\b\b\b\b\b\b\b\b\b\b\b\b\b\b\b\b\b\b\b\b\b\b\b\b\b\b\b\b\b\b\b\b\b\b\b\b\b\b\r260/260 [==============================] - 1s 5ms/step - loss: 0.0997 - accuracy: 0.8794\n",
            "Epoch 12/50\n",
            "254/260 [============================>.] - ETA: 0s - loss: 0.0974 - accuracy: 0.8794"
          ]
        },
        {
          "output_type": "stream",
          "name": "stderr",
          "text": [
            "WARNING:tensorflow:Early stopping conditioned on metric `val_loss` which is not available. Available metrics are: loss,accuracy\n",
            "WARNING:tensorflow:Can save best model only with val_loss available, skipping.\n"
          ]
        },
        {
          "output_type": "stream",
          "name": "stdout",
          "text": [
            "\b\b\b\b\b\b\b\b\b\b\b\b\b\b\b\b\b\b\b\b\b\b\b\b\b\b\b\b\b\b\b\b\b\b\b\b\b\b\b\b\b\b\b\b\b\b\b\b\b\b\b\b\b\b\b\b\b\b\b\b\b\b\b\b\b\b\b\b\b\b\b\b\b\b\b\b\b\b\b\b\b\b\b\b\r260/260 [==============================] - 1s 5ms/step - loss: 0.0969 - accuracy: 0.8799\n",
            "Epoch 13/50\n",
            "253/260 [============================>.] - ETA: 0s - loss: 0.0956 - accuracy: 0.8815"
          ]
        },
        {
          "output_type": "stream",
          "name": "stderr",
          "text": [
            "WARNING:tensorflow:Early stopping conditioned on metric `val_loss` which is not available. Available metrics are: loss,accuracy\n",
            "WARNING:tensorflow:Can save best model only with val_loss available, skipping.\n"
          ]
        },
        {
          "output_type": "stream",
          "name": "stdout",
          "text": [
            "\b\b\b\b\b\b\b\b\b\b\b\b\b\b\b\b\b\b\b\b\b\b\b\b\b\b\b\b\b\b\b\b\b\b\b\b\b\b\b\b\b\b\b\b\b\b\b\b\b\b\b\b\b\b\b\b\b\b\b\b\b\b\b\b\b\b\b\b\b\b\b\b\b\b\b\b\b\b\b\b\b\b\b\b\r260/260 [==============================] - 1s 5ms/step - loss: 0.0955 - accuracy: 0.8814\n",
            "Epoch 14/50\n",
            "258/260 [============================>.] - ETA: 0s - loss: 0.0932 - accuracy: 0.8844"
          ]
        },
        {
          "output_type": "stream",
          "name": "stderr",
          "text": [
            "WARNING:tensorflow:Early stopping conditioned on metric `val_loss` which is not available. Available metrics are: loss,accuracy\n",
            "WARNING:tensorflow:Can save best model only with val_loss available, skipping.\n"
          ]
        },
        {
          "output_type": "stream",
          "name": "stdout",
          "text": [
            "\b\b\b\b\b\b\b\b\b\b\b\b\b\b\b\b\b\b\b\b\b\b\b\b\b\b\b\b\b\b\b\b\b\b\b\b\b\b\b\b\b\b\b\b\b\b\b\b\b\b\b\b\b\b\b\b\b\b\b\b\b\b\b\b\b\b\b\b\b\b\b\b\b\b\b\b\b\b\b\b\b\b\b\b\r260/260 [==============================] - 3s 10ms/step - loss: 0.0932 - accuracy: 0.8844\n",
            "Epoch 15/50\n",
            "256/260 [============================>.] - ETA: 0s - loss: 0.0913 - accuracy: 0.8905"
          ]
        },
        {
          "output_type": "stream",
          "name": "stderr",
          "text": [
            "WARNING:tensorflow:Early stopping conditioned on metric `val_loss` which is not available. Available metrics are: loss,accuracy\n",
            "WARNING:tensorflow:Can save best model only with val_loss available, skipping.\n"
          ]
        },
        {
          "output_type": "stream",
          "name": "stdout",
          "text": [
            "\b\b\b\b\b\b\b\b\b\b\b\b\b\b\b\b\b\b\b\b\b\b\b\b\b\b\b\b\b\b\b\b\b\b\b\b\b\b\b\b\b\b\b\b\b\b\b\b\b\b\b\b\b\b\b\b\b\b\b\b\b\b\b\b\b\b\b\b\b\b\b\b\b\b\b\b\b\b\b\b\b\b\b\b\r260/260 [==============================] - 3s 11ms/step - loss: 0.0915 - accuracy: 0.8903\n",
            "Epoch 16/50\n",
            "258/260 [============================>.] - ETA: 0s - loss: 0.0893 - accuracy: 0.8922"
          ]
        },
        {
          "output_type": "stream",
          "name": "stderr",
          "text": [
            "WARNING:tensorflow:Early stopping conditioned on metric `val_loss` which is not available. Available metrics are: loss,accuracy\n",
            "WARNING:tensorflow:Can save best model only with val_loss available, skipping.\n"
          ]
        },
        {
          "output_type": "stream",
          "name": "stdout",
          "text": [
            "\b\b\b\b\b\b\b\b\b\b\b\b\b\b\b\b\b\b\b\b\b\b\b\b\b\b\b\b\b\b\b\b\b\b\b\b\b\b\b\b\b\b\b\b\b\b\b\b\b\b\b\b\b\b\b\b\b\b\b\b\b\b\b\b\b\b\b\b\b\b\b\b\b\b\b\b\b\b\b\b\b\b\b\b\r260/260 [==============================] - 4s 14ms/step - loss: 0.0893 - accuracy: 0.8920\n",
            "Epoch 17/50\n",
            "259/260 [============================>.] - ETA: 0s - loss: 0.0880 - accuracy: 0.8941"
          ]
        },
        {
          "output_type": "stream",
          "name": "stderr",
          "text": [
            "WARNING:tensorflow:Early stopping conditioned on metric `val_loss` which is not available. Available metrics are: loss,accuracy\n",
            "WARNING:tensorflow:Can save best model only with val_loss available, skipping.\n"
          ]
        },
        {
          "output_type": "stream",
          "name": "stdout",
          "text": [
            "\b\b\b\b\b\b\b\b\b\b\b\b\b\b\b\b\b\b\b\b\b\b\b\b\b\b\b\b\b\b\b\b\b\b\b\b\b\b\b\b\b\b\b\b\b\b\b\b\b\b\b\b\b\b\b\b\b\b\b\b\b\b\b\b\b\b\b\b\b\b\b\b\b\b\b\b\b\b\b\b\b\b\b\b\r260/260 [==============================] - 3s 11ms/step - loss: 0.0880 - accuracy: 0.8942\n",
            "Epoch 18/50\n",
            "252/260 [============================>.] - ETA: 0s - loss: 0.0865 - accuracy: 0.8963"
          ]
        },
        {
          "output_type": "stream",
          "name": "stderr",
          "text": [
            "WARNING:tensorflow:Early stopping conditioned on metric `val_loss` which is not available. Available metrics are: loss,accuracy\n",
            "WARNING:tensorflow:Can save best model only with val_loss available, skipping.\n"
          ]
        },
        {
          "output_type": "stream",
          "name": "stdout",
          "text": [
            "\b\b\b\b\b\b\b\b\b\b\b\b\b\b\b\b\b\b\b\b\b\b\b\b\b\b\b\b\b\b\b\b\b\b\b\b\b\b\b\b\b\b\b\b\b\b\b\b\b\b\b\b\b\b\b\b\b\b\b\b\b\b\b\b\b\b\b\b\b\b\b\b\b\b\b\b\b\b\b\b\b\b\b\b\r260/260 [==============================] - 2s 8ms/step - loss: 0.0860 - accuracy: 0.8970\n",
            "Epoch 19/50\n",
            "258/260 [============================>.] - ETA: 0s - loss: 0.0845 - accuracy: 0.8987"
          ]
        },
        {
          "output_type": "stream",
          "name": "stderr",
          "text": [
            "WARNING:tensorflow:Early stopping conditioned on metric `val_loss` which is not available. Available metrics are: loss,accuracy\n",
            "WARNING:tensorflow:Can save best model only with val_loss available, skipping.\n"
          ]
        },
        {
          "output_type": "stream",
          "name": "stdout",
          "text": [
            "\b\b\b\b\b\b\b\b\b\b\b\b\b\b\b\b\b\b\b\b\b\b\b\b\b\b\b\b\b\b\b\b\b\b\b\b\b\b\b\b\b\b\b\b\b\b\b\b\b\b\b\b\b\b\b\b\b\b\b\b\b\b\b\b\b\b\b\b\b\b\b\b\b\b\b\b\b\b\b\b\b\b\b\b\r260/260 [==============================] - 1s 5ms/step - loss: 0.0847 - accuracy: 0.8985\n",
            "Epoch 20/50\n",
            "254/260 [============================>.] - ETA: 0s - loss: 0.0834 - accuracy: 0.8979"
          ]
        },
        {
          "output_type": "stream",
          "name": "stderr",
          "text": [
            "WARNING:tensorflow:Early stopping conditioned on metric `val_loss` which is not available. Available metrics are: loss,accuracy\n",
            "WARNING:tensorflow:Can save best model only with val_loss available, skipping.\n"
          ]
        },
        {
          "output_type": "stream",
          "name": "stdout",
          "text": [
            "\b\b\b\b\b\b\b\b\b\b\b\b\b\b\b\b\b\b\b\b\b\b\b\b\b\b\b\b\b\b\b\b\b\b\b\b\b\b\b\b\b\b\b\b\b\b\b\b\b\b\b\b\b\b\b\b\b\b\b\b\b\b\b\b\b\b\b\b\b\b\b\b\b\b\b\b\b\b\b\b\b\b\b\b\r260/260 [==============================] - 1s 5ms/step - loss: 0.0835 - accuracy: 0.8979\n",
            "Epoch 21/50\n",
            "258/260 [============================>.] - ETA: 0s - loss: 0.0827 - accuracy: 0.9020"
          ]
        },
        {
          "output_type": "stream",
          "name": "stderr",
          "text": [
            "WARNING:tensorflow:Early stopping conditioned on metric `val_loss` which is not available. Available metrics are: loss,accuracy\n",
            "WARNING:tensorflow:Can save best model only with val_loss available, skipping.\n"
          ]
        },
        {
          "output_type": "stream",
          "name": "stdout",
          "text": [
            "\b\b\b\b\b\b\b\b\b\b\b\b\b\b\b\b\b\b\b\b\b\b\b\b\b\b\b\b\b\b\b\b\b\b\b\b\b\b\b\b\b\b\b\b\b\b\b\b\b\b\b\b\b\b\b\b\b\b\b\b\b\b\b\b\b\b\b\b\b\b\b\b\b\b\b\b\b\b\b\b\b\b\b\b\r260/260 [==============================] - 1s 6ms/step - loss: 0.0827 - accuracy: 0.9021\n",
            "Epoch 22/50\n",
            "259/260 [============================>.] - ETA: 0s - loss: 0.0816 - accuracy: 0.9024"
          ]
        },
        {
          "output_type": "stream",
          "name": "stderr",
          "text": [
            "WARNING:tensorflow:Early stopping conditioned on metric `val_loss` which is not available. Available metrics are: loss,accuracy\n",
            "WARNING:tensorflow:Can save best model only with val_loss available, skipping.\n"
          ]
        },
        {
          "output_type": "stream",
          "name": "stdout",
          "text": [
            "\b\b\b\b\b\b\b\b\b\b\b\b\b\b\b\b\b\b\b\b\b\b\b\b\b\b\b\b\b\b\b\b\b\b\b\b\b\b\b\b\b\b\b\b\b\b\b\b\b\b\b\b\b\b\b\b\b\b\b\b\b\b\b\b\b\b\b\b\b\b\b\b\b\b\b\b\b\b\b\b\b\b\b\b\r260/260 [==============================] - 1s 6ms/step - loss: 0.0815 - accuracy: 0.9024\n",
            "Epoch 23/50\n",
            "254/260 [============================>.] - ETA: 0s - loss: 0.0799 - accuracy: 0.9042"
          ]
        },
        {
          "output_type": "stream",
          "name": "stderr",
          "text": [
            "WARNING:tensorflow:Early stopping conditioned on metric `val_loss` which is not available. Available metrics are: loss,accuracy\n",
            "WARNING:tensorflow:Can save best model only with val_loss available, skipping.\n"
          ]
        },
        {
          "output_type": "stream",
          "name": "stdout",
          "text": [
            "\b\b\b\b\b\b\b\b\b\b\b\b\b\b\b\b\b\b\b\b\b\b\b\b\b\b\b\b\b\b\b\b\b\b\b\b\b\b\b\b\b\b\b\b\b\b\b\b\b\b\b\b\b\b\b\b\b\b\b\b\b\b\b\b\b\b\b\b\b\b\b\b\b\b\b\b\b\b\b\b\b\b\b\b\r260/260 [==============================] - 2s 9ms/step - loss: 0.0798 - accuracy: 0.9043\n",
            "Epoch 24/50\n",
            "253/260 [============================>.] - ETA: 0s - loss: 0.0794 - accuracy: 0.9061"
          ]
        },
        {
          "output_type": "stream",
          "name": "stderr",
          "text": [
            "WARNING:tensorflow:Early stopping conditioned on metric `val_loss` which is not available. Available metrics are: loss,accuracy\n",
            "WARNING:tensorflow:Can save best model only with val_loss available, skipping.\n"
          ]
        },
        {
          "output_type": "stream",
          "name": "stdout",
          "text": [
            "\b\b\b\b\b\b\b\b\b\b\b\b\b\b\b\b\b\b\b\b\b\b\b\b\b\b\b\b\b\b\b\b\b\b\b\b\b\b\b\b\b\b\b\b\b\b\b\b\b\b\b\b\b\b\b\b\b\b\b\b\b\b\b\b\b\b\b\b\b\b\b\b\b\b\b\b\b\b\b\b\b\b\b\b\r260/260 [==============================] - 2s 8ms/step - loss: 0.0791 - accuracy: 0.9063\n",
            "Epoch 25/50\n",
            "259/260 [============================>.] - ETA: 0s - loss: 0.0781 - accuracy: 0.9096"
          ]
        },
        {
          "output_type": "stream",
          "name": "stderr",
          "text": [
            "WARNING:tensorflow:Early stopping conditioned on metric `val_loss` which is not available. Available metrics are: loss,accuracy\n",
            "WARNING:tensorflow:Can save best model only with val_loss available, skipping.\n"
          ]
        },
        {
          "output_type": "stream",
          "name": "stdout",
          "text": [
            "\b\b\b\b\b\b\b\b\b\b\b\b\b\b\b\b\b\b\b\b\b\b\b\b\b\b\b\b\b\b\b\b\b\b\b\b\b\b\b\b\b\b\b\b\b\b\b\b\b\b\b\b\b\b\b\b\b\b\b\b\b\b\b\b\b\b\b\b\b\b\b\b\b\b\b\b\b\b\b\b\b\b\b\b\r260/260 [==============================] - 1s 6ms/step - loss: 0.0781 - accuracy: 0.9097\n",
            "Epoch 26/50\n",
            "257/260 [============================>.] - ETA: 0s - loss: 0.0770 - accuracy: 0.9118"
          ]
        },
        {
          "output_type": "stream",
          "name": "stderr",
          "text": [
            "WARNING:tensorflow:Early stopping conditioned on metric `val_loss` which is not available. Available metrics are: loss,accuracy\n",
            "WARNING:tensorflow:Can save best model only with val_loss available, skipping.\n"
          ]
        },
        {
          "output_type": "stream",
          "name": "stdout",
          "text": [
            "\b\b\b\b\b\b\b\b\b\b\b\b\b\b\b\b\b\b\b\b\b\b\b\b\b\b\b\b\b\b\b\b\b\b\b\b\b\b\b\b\b\b\b\b\b\b\b\b\b\b\b\b\b\b\b\b\b\b\b\b\b\b\b\b\b\b\b\b\b\b\b\b\b\b\b\b\b\b\b\b\b\b\b\b\r260/260 [==============================] - 1s 6ms/step - loss: 0.0772 - accuracy: 0.9116\n",
            "Epoch 27/50\n",
            "254/260 [============================>.] - ETA: 0s - loss: 0.0762 - accuracy: 0.9107"
          ]
        },
        {
          "output_type": "stream",
          "name": "stderr",
          "text": [
            "WARNING:tensorflow:Early stopping conditioned on metric `val_loss` which is not available. Available metrics are: loss,accuracy\n",
            "WARNING:tensorflow:Can save best model only with val_loss available, skipping.\n"
          ]
        },
        {
          "output_type": "stream",
          "name": "stdout",
          "text": [
            "\b\b\b\b\b\b\b\b\b\b\b\b\b\b\b\b\b\b\b\b\b\b\b\b\b\b\b\b\b\b\b\b\b\b\b\b\b\b\b\b\b\b\b\b\b\b\b\b\b\b\b\b\b\b\b\b\b\b\b\b\b\b\b\b\b\b\b\b\b\b\b\b\b\b\b\b\b\b\b\b\b\b\b\b\r260/260 [==============================] - 1s 5ms/step - loss: 0.0762 - accuracy: 0.9103\n",
            "Epoch 28/50\n",
            "254/260 [============================>.] - ETA: 0s - loss: 0.0753 - accuracy: 0.9120"
          ]
        },
        {
          "output_type": "stream",
          "name": "stderr",
          "text": [
            "WARNING:tensorflow:Early stopping conditioned on metric `val_loss` which is not available. Available metrics are: loss,accuracy\n",
            "WARNING:tensorflow:Can save best model only with val_loss available, skipping.\n"
          ]
        },
        {
          "output_type": "stream",
          "name": "stdout",
          "text": [
            "\b\b\b\b\b\b\b\b\b\b\b\b\b\b\b\b\b\b\b\b\b\b\b\b\b\b\b\b\b\b\b\b\b\b\b\b\b\b\b\b\b\b\b\b\b\b\b\b\b\b\b\b\b\b\b\b\b\b\b\b\b\b\b\b\b\b\b\b\b\b\b\b\b\b\b\b\b\b\b\b\b\b\b\b\r260/260 [==============================] - 1s 6ms/step - loss: 0.0750 - accuracy: 0.9122\n",
            "Epoch 29/50\n",
            "253/260 [============================>.] - ETA: 0s - loss: 0.0748 - accuracy: 0.9144"
          ]
        },
        {
          "output_type": "stream",
          "name": "stderr",
          "text": [
            "WARNING:tensorflow:Early stopping conditioned on metric `val_loss` which is not available. Available metrics are: loss,accuracy\n",
            "WARNING:tensorflow:Can save best model only with val_loss available, skipping.\n"
          ]
        },
        {
          "output_type": "stream",
          "name": "stdout",
          "text": [
            "\b\b\b\b\b\b\b\b\b\b\b\b\b\b\b\b\b\b\b\b\b\b\b\b\b\b\b\b\b\b\b\b\b\b\b\b\b\b\b\b\b\b\b\b\b\b\b\b\b\b\b\b\b\b\b\b\b\b\b\b\b\b\b\b\b\b\b\b\b\b\b\b\b\b\b\b\b\b\b\b\b\b\b\b\r260/260 [==============================] - 2s 6ms/step - loss: 0.0748 - accuracy: 0.9143\n",
            "Epoch 30/50\n",
            "252/260 [============================>.] - ETA: 0s - loss: 0.0739 - accuracy: 0.9152"
          ]
        },
        {
          "output_type": "stream",
          "name": "stderr",
          "text": [
            "WARNING:tensorflow:Early stopping conditioned on metric `val_loss` which is not available. Available metrics are: loss,accuracy\n",
            "WARNING:tensorflow:Can save best model only with val_loss available, skipping.\n"
          ]
        },
        {
          "output_type": "stream",
          "name": "stdout",
          "text": [
            "\b\b\b\b\b\b\b\b\b\b\b\b\b\b\b\b\b\b\b\b\b\b\b\b\b\b\b\b\b\b\b\b\b\b\b\b\b\b\b\b\b\b\b\b\b\b\b\b\b\b\b\b\b\b\b\b\b\b\b\b\b\b\b\b\b\b\b\b\b\b\b\b\b\b\b\b\b\b\b\b\b\b\b\b\r260/260 [==============================] - 1s 6ms/step - loss: 0.0740 - accuracy: 0.9146\n",
            "Epoch 31/50\n",
            "256/260 [============================>.] - ETA: 0s - loss: 0.0728 - accuracy: 0.9144"
          ]
        },
        {
          "output_type": "stream",
          "name": "stderr",
          "text": [
            "WARNING:tensorflow:Early stopping conditioned on metric `val_loss` which is not available. Available metrics are: loss,accuracy\n",
            "WARNING:tensorflow:Can save best model only with val_loss available, skipping.\n"
          ]
        },
        {
          "output_type": "stream",
          "name": "stdout",
          "text": [
            "\b\b\b\b\b\b\b\b\b\b\b\b\b\b\b\b\b\b\b\b\b\b\b\b\b\b\b\b\b\b\b\b\b\b\b\b\b\b\b\b\b\b\b\b\b\b\b\b\b\b\b\b\b\b\b\b\b\b\b\b\b\b\b\b\b\b\b\b\b\b\b\b\b\b\b\b\b\b\b\b\b\b\b\b\r260/260 [==============================] - 2s 7ms/step - loss: 0.0728 - accuracy: 0.9145\n",
            "Epoch 32/50\n",
            "256/260 [============================>.] - ETA: 0s - loss: 0.0721 - accuracy: 0.9170"
          ]
        },
        {
          "output_type": "stream",
          "name": "stderr",
          "text": [
            "WARNING:tensorflow:Early stopping conditioned on metric `val_loss` which is not available. Available metrics are: loss,accuracy\n",
            "WARNING:tensorflow:Can save best model only with val_loss available, skipping.\n"
          ]
        },
        {
          "output_type": "stream",
          "name": "stdout",
          "text": [
            "\b\b\b\b\b\b\b\b\b\b\b\b\b\b\b\b\b\b\b\b\b\b\b\b\b\b\b\b\b\b\b\b\b\b\b\b\b\b\b\b\b\b\b\b\b\b\b\b\b\b\b\b\b\b\b\b\b\b\b\b\b\b\b\b\b\b\b\b\b\b\b\b\b\b\b\b\b\b\b\b\b\b\b\b\r260/260 [==============================] - 2s 8ms/step - loss: 0.0719 - accuracy: 0.9173\n",
            "Epoch 33/50\n",
            "257/260 [============================>.] - ETA: 0s - loss: 0.0718 - accuracy: 0.9161"
          ]
        },
        {
          "output_type": "stream",
          "name": "stderr",
          "text": [
            "WARNING:tensorflow:Early stopping conditioned on metric `val_loss` which is not available. Available metrics are: loss,accuracy\n",
            "WARNING:tensorflow:Can save best model only with val_loss available, skipping.\n"
          ]
        },
        {
          "output_type": "stream",
          "name": "stdout",
          "text": [
            "\b\b\b\b\b\b\b\b\b\b\b\b\b\b\b\b\b\b\b\b\b\b\b\b\b\b\b\b\b\b\b\b\b\b\b\b\b\b\b\b\b\b\b\b\b\b\b\b\b\b\b\b\b\b\b\b\b\b\b\b\b\b\b\b\b\b\b\b\b\b\b\b\b\b\b\b\b\b\b\b\b\b\b\b\r260/260 [==============================] - 2s 8ms/step - loss: 0.0717 - accuracy: 0.9165\n",
            "Epoch 34/50\n",
            "251/260 [===========================>..] - ETA: 0s - loss: 0.0703 - accuracy: 0.9188"
          ]
        },
        {
          "output_type": "stream",
          "name": "stderr",
          "text": [
            "WARNING:tensorflow:Early stopping conditioned on metric `val_loss` which is not available. Available metrics are: loss,accuracy\n",
            "WARNING:tensorflow:Can save best model only with val_loss available, skipping.\n"
          ]
        },
        {
          "output_type": "stream",
          "name": "stdout",
          "text": [
            "\b\b\b\b\b\b\b\b\b\b\b\b\b\b\b\b\b\b\b\b\b\b\b\b\b\b\b\b\b\b\b\b\b\b\b\b\b\b\b\b\b\b\b\b\b\b\b\b\b\b\b\b\b\b\b\b\b\b\b\b\b\b\b\b\b\b\b\b\b\b\b\b\b\b\b\b\b\b\b\b\b\b\b\b\r260/260 [==============================] - 1s 6ms/step - loss: 0.0704 - accuracy: 0.9180\n",
            "Epoch 35/50\n",
            "259/260 [============================>.] - ETA: 0s - loss: 0.0704 - accuracy: 0.9175"
          ]
        },
        {
          "output_type": "stream",
          "name": "stderr",
          "text": [
            "WARNING:tensorflow:Early stopping conditioned on metric `val_loss` which is not available. Available metrics are: loss,accuracy\n",
            "WARNING:tensorflow:Can save best model only with val_loss available, skipping.\n"
          ]
        },
        {
          "output_type": "stream",
          "name": "stdout",
          "text": [
            "\b\b\b\b\b\b\b\b\b\b\b\b\b\b\b\b\b\b\b\b\b\b\b\b\b\b\b\b\b\b\b\b\b\b\b\b\b\b\b\b\b\b\b\b\b\b\b\b\b\b\b\b\b\b\b\b\b\b\b\b\b\b\b\b\b\b\b\b\b\b\b\b\b\b\b\b\b\b\b\b\b\b\b\b\r260/260 [==============================] - 1s 6ms/step - loss: 0.0704 - accuracy: 0.9175\n",
            "Epoch 36/50\n",
            "256/260 [============================>.] - ETA: 0s - loss: 0.0694 - accuracy: 0.9231"
          ]
        },
        {
          "output_type": "stream",
          "name": "stderr",
          "text": [
            "WARNING:tensorflow:Early stopping conditioned on metric `val_loss` which is not available. Available metrics are: loss,accuracy\n",
            "WARNING:tensorflow:Can save best model only with val_loss available, skipping.\n"
          ]
        },
        {
          "output_type": "stream",
          "name": "stdout",
          "text": [
            "\b\b\b\b\b\b\b\b\b\b\b\b\b\b\b\b\b\b\b\b\b\b\b\b\b\b\b\b\b\b\b\b\b\b\b\b\b\b\b\b\b\b\b\b\b\b\b\b\b\b\b\b\b\b\b\b\b\b\b\b\b\b\b\b\b\b\b\b\b\b\b\b\b\b\b\b\b\b\b\b\b\b\b\b\r260/260 [==============================] - 1s 6ms/step - loss: 0.0694 - accuracy: 0.9231\n",
            "Epoch 37/50\n",
            "252/260 [============================>.] - ETA: 0s - loss: 0.0676 - accuracy: 0.9239"
          ]
        },
        {
          "output_type": "stream",
          "name": "stderr",
          "text": [
            "WARNING:tensorflow:Early stopping conditioned on metric `val_loss` which is not available. Available metrics are: loss,accuracy\n",
            "WARNING:tensorflow:Can save best model only with val_loss available, skipping.\n"
          ]
        },
        {
          "output_type": "stream",
          "name": "stdout",
          "text": [
            "\b\b\b\b\b\b\b\b\b\b\b\b\b\b\b\b\b\b\b\b\b\b\b\b\b\b\b\b\b\b\b\b\b\b\b\b\b\b\b\b\b\b\b\b\b\b\b\b\b\b\b\b\b\b\b\b\b\b\b\b\b\b\b\b\b\b\b\b\b\b\b\b\b\b\b\b\b\b\b\b\b\b\b\b\r260/260 [==============================] - 1s 5ms/step - loss: 0.0680 - accuracy: 0.9233\n",
            "Epoch 38/50\n",
            "258/260 [============================>.] - ETA: 0s - loss: 0.0685 - accuracy: 0.9221"
          ]
        },
        {
          "output_type": "stream",
          "name": "stderr",
          "text": [
            "WARNING:tensorflow:Early stopping conditioned on metric `val_loss` which is not available. Available metrics are: loss,accuracy\n",
            "WARNING:tensorflow:Can save best model only with val_loss available, skipping.\n"
          ]
        },
        {
          "output_type": "stream",
          "name": "stdout",
          "text": [
            "\b\b\b\b\b\b\b\b\b\b\b\b\b\b\b\b\b\b\b\b\b\b\b\b\b\b\b\b\b\b\b\b\b\b\b\b\b\b\b\b\b\b\b\b\b\b\b\b\b\b\b\b\b\b\b\b\b\b\b\b\b\b\b\b\b\b\b\b\b\b\b\b\b\b\b\b\b\b\b\b\b\b\b\b\r260/260 [==============================] - 2s 8ms/step - loss: 0.0685 - accuracy: 0.9222\n",
            "Epoch 39/50\n",
            "260/260 [==============================] - ETA: 0s - loss: 0.0675 - accuracy: 0.9237"
          ]
        },
        {
          "output_type": "stream",
          "name": "stderr",
          "text": [
            "WARNING:tensorflow:Early stopping conditioned on metric `val_loss` which is not available. Available metrics are: loss,accuracy\n",
            "WARNING:tensorflow:Can save best model only with val_loss available, skipping.\n"
          ]
        },
        {
          "output_type": "stream",
          "name": "stdout",
          "text": [
            "\b\b\b\b\b\b\b\b\b\b\b\b\b\b\b\b\b\b\b\b\b\b\b\b\b\b\b\b\b\b\b\b\b\b\b\b\b\b\b\b\b\b\b\b\b\b\b\b\b\b\b\b\b\b\b\b\b\b\b\b\b\b\b\b\b\b\b\b\b\b\b\b\b\b\b\b\b\b\b\b\b\b\b\b\r260/260 [==============================] - 3s 11ms/step - loss: 0.0675 - accuracy: 0.9237\n",
            "Epoch 40/50\n",
            "258/260 [============================>.] - ETA: 0s - loss: 0.0666 - accuracy: 0.9241"
          ]
        },
        {
          "output_type": "stream",
          "name": "stderr",
          "text": [
            "WARNING:tensorflow:Early stopping conditioned on metric `val_loss` which is not available. Available metrics are: loss,accuracy\n",
            "WARNING:tensorflow:Can save best model only with val_loss available, skipping.\n"
          ]
        },
        {
          "output_type": "stream",
          "name": "stdout",
          "text": [
            "\b\b\b\b\b\b\b\b\b\b\b\b\b\b\b\b\b\b\b\b\b\b\b\b\b\b\b\b\b\b\b\b\b\b\b\b\b\b\b\b\b\b\b\b\b\b\b\b\b\b\b\b\b\b\b\b\b\b\b\b\b\b\b\b\b\b\b\b\b\b\b\b\b\b\b\b\b\b\b\b\b\b\b\b\r260/260 [==============================] - 3s 10ms/step - loss: 0.0666 - accuracy: 0.9242\n",
            "Epoch 41/50\n",
            "258/260 [============================>.] - ETA: 0s - loss: 0.0665 - accuracy: 0.9249"
          ]
        },
        {
          "output_type": "stream",
          "name": "stderr",
          "text": [
            "WARNING:tensorflow:Early stopping conditioned on metric `val_loss` which is not available. Available metrics are: loss,accuracy\n",
            "WARNING:tensorflow:Can save best model only with val_loss available, skipping.\n"
          ]
        },
        {
          "output_type": "stream",
          "name": "stdout",
          "text": [
            "\b\b\b\b\b\b\b\b\b\b\b\b\b\b\b\b\b\b\b\b\b\b\b\b\b\b\b\b\b\b\b\b\b\b\b\b\b\b\b\b\b\b\b\b\b\b\b\b\b\b\b\b\b\b\b\b\b\b\b\b\b\b\b\b\b\b\b\b\b\b\b\b\b\b\b\b\b\b\b\b\b\b\b\b\r260/260 [==============================] - 2s 7ms/step - loss: 0.0666 - accuracy: 0.9248\n",
            "Epoch 42/50\n",
            "259/260 [============================>.] - ETA: 0s - loss: 0.0665 - accuracy: 0.9262"
          ]
        },
        {
          "output_type": "stream",
          "name": "stderr",
          "text": [
            "WARNING:tensorflow:Early stopping conditioned on metric `val_loss` which is not available. Available metrics are: loss,accuracy\n",
            "WARNING:tensorflow:Can save best model only with val_loss available, skipping.\n"
          ]
        },
        {
          "output_type": "stream",
          "name": "stdout",
          "text": [
            "\b\b\b\b\b\b\b\b\b\b\b\b\b\b\b\b\b\b\b\b\b\b\b\b\b\b\b\b\b\b\b\b\b\b\b\b\b\b\b\b\b\b\b\b\b\b\b\b\b\b\b\b\b\b\b\b\b\b\b\b\b\b\b\b\b\b\b\b\b\b\b\b\b\b\b\b\b\b\b\b\b\b\b\b\r260/260 [==============================] - 3s 11ms/step - loss: 0.0665 - accuracy: 0.9261\n",
            "Epoch 43/50\n",
            "257/260 [============================>.] - ETA: 0s - loss: 0.0657 - accuracy: 0.9259"
          ]
        },
        {
          "output_type": "stream",
          "name": "stderr",
          "text": [
            "WARNING:tensorflow:Early stopping conditioned on metric `val_loss` which is not available. Available metrics are: loss,accuracy\n",
            "WARNING:tensorflow:Can save best model only with val_loss available, skipping.\n"
          ]
        },
        {
          "output_type": "stream",
          "name": "stdout",
          "text": [
            "\b\b\b\b\b\b\b\b\b\b\b\b\b\b\b\b\b\b\b\b\b\b\b\b\b\b\b\b\b\b\b\b\b\b\b\b\b\b\b\b\b\b\b\b\b\b\b\b\b\b\b\b\b\b\b\b\b\b\b\b\b\b\b\b\b\b\b\b\b\b\b\b\b\b\b\b\b\b\b\b\b\b\b\b\r260/260 [==============================] - 2s 7ms/step - loss: 0.0656 - accuracy: 0.9260\n",
            "Epoch 44/50\n",
            "260/260 [==============================] - ETA: 0s - loss: 0.0651 - accuracy: 0.9241"
          ]
        },
        {
          "output_type": "stream",
          "name": "stderr",
          "text": [
            "WARNING:tensorflow:Early stopping conditioned on metric `val_loss` which is not available. Available metrics are: loss,accuracy\n",
            "WARNING:tensorflow:Can save best model only with val_loss available, skipping.\n"
          ]
        },
        {
          "output_type": "stream",
          "name": "stdout",
          "text": [
            "\b\b\b\b\b\b\b\b\b\b\b\b\b\b\b\b\b\b\b\b\b\b\b\b\b\b\b\b\b\b\b\b\b\b\b\b\b\b\b\b\b\b\b\b\b\b\b\b\b\b\b\b\b\b\b\b\b\b\b\b\b\b\b\b\b\b\b\b\b\b\b\b\b\b\b\b\b\b\b\b\b\b\b\b\r260/260 [==============================] - 1s 6ms/step - loss: 0.0651 - accuracy: 0.9241\n",
            "Epoch 45/50\n",
            "259/260 [============================>.] - ETA: 0s - loss: 0.0649 - accuracy: 0.9262"
          ]
        },
        {
          "output_type": "stream",
          "name": "stderr",
          "text": [
            "WARNING:tensorflow:Early stopping conditioned on metric `val_loss` which is not available. Available metrics are: loss,accuracy\n",
            "WARNING:tensorflow:Can save best model only with val_loss available, skipping.\n"
          ]
        },
        {
          "output_type": "stream",
          "name": "stdout",
          "text": [
            "\b\b\b\b\b\b\b\b\b\b\b\b\b\b\b\b\b\b\b\b\b\b\b\b\b\b\b\b\b\b\b\b\b\b\b\b\b\b\b\b\b\b\b\b\b\b\b\b\b\b\b\b\b\b\b\b\b\b\b\b\b\b\b\b\b\b\b\b\b\b\b\b\b\b\b\b\b\b\b\b\b\b\b\b\r260/260 [==============================] - 2s 8ms/step - loss: 0.0649 - accuracy: 0.9261\n",
            "Epoch 46/50\n",
            "257/260 [============================>.] - ETA: 0s - loss: 0.0643 - accuracy: 0.9270"
          ]
        },
        {
          "output_type": "stream",
          "name": "stderr",
          "text": [
            "WARNING:tensorflow:Early stopping conditioned on metric `val_loss` which is not available. Available metrics are: loss,accuracy\n",
            "WARNING:tensorflow:Can save best model only with val_loss available, skipping.\n"
          ]
        },
        {
          "output_type": "stream",
          "name": "stdout",
          "text": [
            "\b\b\b\b\b\b\b\b\b\b\b\b\b\b\b\b\b\b\b\b\b\b\b\b\b\b\b\b\b\b\b\b\b\b\b\b\b\b\b\b\b\b\b\b\b\b\b\b\b\b\b\b\b\b\b\b\b\b\b\b\b\b\b\b\b\b\b\b\b\b\b\b\b\b\b\b\b\b\b\b\b\b\b\b\r260/260 [==============================] - 3s 11ms/step - loss: 0.0640 - accuracy: 0.9274\n",
            "Epoch 47/50\n",
            "257/260 [============================>.] - ETA: 0s - loss: 0.0639 - accuracy: 0.9267"
          ]
        },
        {
          "output_type": "stream",
          "name": "stderr",
          "text": [
            "WARNING:tensorflow:Early stopping conditioned on metric `val_loss` which is not available. Available metrics are: loss,accuracy\n",
            "WARNING:tensorflow:Can save best model only with val_loss available, skipping.\n"
          ]
        },
        {
          "output_type": "stream",
          "name": "stdout",
          "text": [
            "\b\b\b\b\b\b\b\b\b\b\b\b\b\b\b\b\b\b\b\b\b\b\b\b\b\b\b\b\b\b\b\b\b\b\b\b\b\b\b\b\b\b\b\b\b\b\b\b\b\b\b\b\b\b\b\b\b\b\b\b\b\b\b\b\b\b\b\b\b\b\b\b\b\b\b\b\b\b\b\b\b\b\b\b\r260/260 [==============================] - 2s 8ms/step - loss: 0.0639 - accuracy: 0.9268\n",
            "Epoch 48/50\n",
            "254/260 [============================>.] - ETA: 0s - loss: 0.0636 - accuracy: 0.9285"
          ]
        },
        {
          "output_type": "stream",
          "name": "stderr",
          "text": [
            "WARNING:tensorflow:Early stopping conditioned on metric `val_loss` which is not available. Available metrics are: loss,accuracy\n",
            "WARNING:tensorflow:Can save best model only with val_loss available, skipping.\n"
          ]
        },
        {
          "output_type": "stream",
          "name": "stdout",
          "text": [
            "\b\b\b\b\b\b\b\b\b\b\b\b\b\b\b\b\b\b\b\b\b\b\b\b\b\b\b\b\b\b\b\b\b\b\b\b\b\b\b\b\b\b\b\b\b\b\b\b\b\b\b\b\b\b\b\b\b\b\b\b\b\b\b\b\b\b\b\b\b\b\b\b\b\b\b\b\b\b\b\b\b\b\b\b\r260/260 [==============================] - 2s 7ms/step - loss: 0.0634 - accuracy: 0.9290\n",
            "Epoch 49/50\n",
            "253/260 [============================>.] - ETA: 0s - loss: 0.0628 - accuracy: 0.9298"
          ]
        },
        {
          "output_type": "stream",
          "name": "stderr",
          "text": [
            "WARNING:tensorflow:Early stopping conditioned on metric `val_loss` which is not available. Available metrics are: loss,accuracy\n",
            "WARNING:tensorflow:Can save best model only with val_loss available, skipping.\n"
          ]
        },
        {
          "output_type": "stream",
          "name": "stdout",
          "text": [
            "\b\b\b\b\b\b\b\b\b\b\b\b\b\b\b\b\b\b\b\b\b\b\b\b\b\b\b\b\b\b\b\b\b\b\b\b\b\b\b\b\b\b\b\b\b\b\b\b\b\b\b\b\b\b\b\b\b\b\b\b\b\b\b\b\b\b\b\b\b\b\b\b\b\b\b\b\b\b\b\b\b\b\b\b\r260/260 [==============================] - 1s 5ms/step - loss: 0.0624 - accuracy: 0.9301\n",
            "Epoch 50/50\n",
            "255/260 [============================>.] - ETA: 0s - loss: 0.0627 - accuracy: 0.9297"
          ]
        },
        {
          "output_type": "stream",
          "name": "stderr",
          "text": [
            "WARNING:tensorflow:Early stopping conditioned on metric `val_loss` which is not available. Available metrics are: loss,accuracy\n",
            "WARNING:tensorflow:Can save best model only with val_loss available, skipping.\n"
          ]
        },
        {
          "output_type": "stream",
          "name": "stdout",
          "text": [
            "\b\b\b\b\b\b\b\b\b\b\b\b\b\b\b\b\b\b\b\b\b\b\b\b\b\b\b\b\b\b\b\b\b\b\b\b\b\b\b\b\b\b\b\b\b\b\b\b\b\b\b\b\b\b\b\b\b\b\b\b\b\b\b\b\b\b\b\b\b\b\b\b\b\b\b\b\b\b\b\b\b\b\b\b\r260/260 [==============================] - 1s 5ms/step - loss: 0.0626 - accuracy: 0.9300\n"
          ]
        },
        {
          "output_type": "execute_result",
          "data": {
            "text/plain": [
              "<keras.callbacks.History at 0x7f5abdba5880>"
            ]
          },
          "metadata": {},
          "execution_count": 30
        }
      ]
    },
    {
      "cell_type": "code",
      "source": [
        "loss, accuracy = model.evaluate(X_test, y_test, verbose=0)\n",
        "print('Accuracy: %f' % (accuracy*100))"
      ],
      "metadata": {
        "colab": {
          "base_uri": "https://localhost:8080/"
        },
        "id": "28qQd-2cWgGX",
        "outputId": "7a10852a-489e-46fb-e995-75d88de77578"
      },
      "execution_count": 32,
      "outputs": [
        {
          "output_type": "stream",
          "name": "stdout",
          "text": [
            "Accuracy: 77.046412\n"
          ]
        }
      ]
    },
    {
      "cell_type": "code",
      "source": [],
      "metadata": {
        "id": "VORax6s7WnA2"
      },
      "execution_count": 33,
      "outputs": []
    },
    {
      "cell_type": "code",
      "source": [],
      "metadata": {
        "id": "xQbd-eBRbMWt"
      },
      "execution_count": null,
      "outputs": []
    },
    {
      "cell_type": "code",
      "source": [
        "##concatenation"
      ],
      "metadata": {
        "id": "znUcxRwsbMde"
      },
      "execution_count": null,
      "outputs": []
    },
    {
      "cell_type": "code",
      "source": [
        "data = []\n",
        "with open(\"images.txt\",\"r\") as f:\n",
        "    data = f.readlines()"
      ],
      "metadata": {
        "id": "EdRdoFOMCQJT"
      },
      "execution_count": 40,
      "outputs": []
    },
    {
      "cell_type": "code",
      "source": [
        "data[1].strip(\"\\n\").split(\"\\t\")"
      ],
      "metadata": {
        "colab": {
          "base_uri": "https://localhost:8080/"
        },
        "id": "1hihQ2QRCZvN",
        "outputId": "095c853d-22af-4678-fdfc-8ba16b0f2523"
      },
      "execution_count": 43,
      "outputs": [
        {
          "output_type": "execute_result",
          "data": {
            "text/plain": [
              "['boston_fake_01', 'http://i.imgur.com/LvoCC5T.jpg', 'fake', 'boston']"
            ]
          },
          "metadata": {},
          "execution_count": 43
        }
      ]
    },
    {
      "cell_type": "code",
      "source": [
        "import matplotlib.pyplot as plt\n",
        "import numpy as np\n",
        "import PIL\n",
        "import tensorflow as tf\n",
        "\n",
        "from tensorflow import keras\n",
        "from tensorflow.keras import layers\n",
        "from tensorflow.keras.models import Sequential"
      ],
      "metadata": {
        "id": "pxFjlnVgbMiQ"
      },
      "execution_count": 44,
      "outputs": []
    },
    {
      "cell_type": "code",
      "source": [
        "file_path = 'MediaEval2015_DevSet_Images.rar'\n",
        "!unrar x $file_path"
      ],
      "metadata": {
        "colab": {
          "base_uri": "https://localhost:8080/"
        },
        "id": "qTOzmKXmbNHP",
        "outputId": "a1404251-11e7-4c92-e0ab-e808df534726"
      },
      "execution_count": 45,
      "outputs": [
        {
          "output_type": "stream",
          "name": "stdout",
          "text": [
            "\n",
            "UNRAR 5.61 beta 1 freeware      Copyright (c) 1993-2018 Alexander Roshal\n",
            "\n",
            "\n",
            "Extracting from MediaEval2015_DevSet_Images.rar\n",
            "\n",
            "Creating    Medieval2015_DevSet_Images                                OK\n",
            "Creating    Medieval2015_DevSet_Images/BostonMarathon                 OK\n",
            "Creating    Medieval2015_DevSet_Images/BostonMarathon/fakes           OK\n",
            "Extracting  Medieval2015_DevSet_Images/BostonMarathon/fakes/boston_fake_01.jpg     \b\b\b\b  0%\b\b\b\b\b  OK \n",
            "Extracting  Medieval2015_DevSet_Images/BostonMarathon/fakes/boston_fake_02.jpg     \b\b\b\b  0%\b\b\b\b\b  OK \n",
            "Extracting  Medieval2015_DevSet_Images/BostonMarathon/fakes/boston_fake_03.jpg     \b\b\b\b  0%\b\b\b\b  1%\b\b\b\b\b  OK \n",
            "Extracting  Medieval2015_DevSet_Images/BostonMarathon/fakes/boston_fake_04.jpg     \b\b\b\b  1%\b\b\b\b\b  OK \n",
            "Extracting  Medieval2015_DevSet_Images/BostonMarathon/fakes/boston_fake_05.jpg     \b\b\b\b  1%\b\b\b\b  2%\b\b\b\b\b  OK \n",
            "Extracting  Medieval2015_DevSet_Images/BostonMarathon/fakes/boston_fake_06.jpg     \b\b\b\b  2%\b\b\b\b\b  OK \n",
            "Extracting  Medieval2015_DevSet_Images/BostonMarathon/fakes/boston_fake_07.jpg     \b\b\b\b  2%\b\b\b\b\b  OK \n",
            "Extracting  Medieval2015_DevSet_Images/BostonMarathon/fakes/boston_fake_08.jpg     \b\b\b\b  3%\b\b\b\b\b  OK \n",
            "Extracting  Medieval2015_DevSet_Images/BostonMarathon/fakes/boston_fake_09.jpg     \b\b\b\b  3%\b\b\b\b\b  OK \n",
            "Extracting  Medieval2015_DevSet_Images/BostonMarathon/fakes/boston_fake_10.gif     \b\b\b\b  4%\b\b\b\b\b  OK \n",
            "Extracting  Medieval2015_DevSet_Images/BostonMarathon/fakes/boston_fake_11.jpg     \b\b\b\b  4%\b\b\b\b\b  OK \n",
            "Extracting  Medieval2015_DevSet_Images/BostonMarathon/fakes/boston_fake_12.jpg     \b\b\b\b  5%\b\b\b\b\b  OK \n",
            "Extracting  Medieval2015_DevSet_Images/BostonMarathon/fakes/boston_fake_13.jpg     \b\b\b\b  5%\b\b\b\b\b  OK \n",
            "Extracting  Medieval2015_DevSet_Images/BostonMarathon/fakes/boston_fake_14.jpg     \b\b\b\b  5%\b\b\b\b\b  OK \n",
            "Extracting  Medieval2015_DevSet_Images/BostonMarathon/fakes/boston_fake_15.jpg     \b\b\b\b  5%\b\b\b\b  6%\b\b\b\b\b  OK \n",
            "Extracting  Medieval2015_DevSet_Images/BostonMarathon/fakes/boston_fake_16.jpg     \b\b\b\b  6%\b\b\b\b\b  OK \n",
            "Extracting  Medieval2015_DevSet_Images/BostonMarathon/fakes/boston_fake_17.jpg     \b\b\b\b  8%\b\b\b\b\b  OK \n",
            "Extracting  Medieval2015_DevSet_Images/BostonMarathon/fakes/boston_fake_18.jpg     \b\b\b\b  8%\b\b\b\b  9%\b\b\b\b\b  OK \n",
            "Extracting  Medieval2015_DevSet_Images/BostonMarathon/fakes/boston_fake_19.jpg     \b\b\b\b  9%\b\b\b\b 10%\b\b\b\b\b  OK \n",
            "Extracting  Medieval2015_DevSet_Images/BostonMarathon/fakes/boston_fake_20.jpg     \b\b\b\b 10%\b\b\b\b 11%\b\b\b\b\b  OK \n",
            "Extracting  Medieval2015_DevSet_Images/BostonMarathon/fakes/boston_fake_21.jpg     \b\b\b\b 11%\b\b\b\b\b  OK \n",
            "Extracting  Medieval2015_DevSet_Images/BostonMarathon/fakes/boston_fake_22.jpg     \b\b\b\b 11%\b\b\b\b 12%\b\b\b\b 13%\b\b\b\b\b  OK \n",
            "Extracting  Medieval2015_DevSet_Images/BostonMarathon/fakes/boston_fake_23.jpg     \b\b\b\b 13%\b\b\b\b 14%\b\b\b\b\b  OK \n",
            "Extracting  Medieval2015_DevSet_Images/BostonMarathon/fakes/boston_fake_24.jpg     \b\b\b\b 15%\b\b\b\b\b  OK \n",
            "Extracting  Medieval2015_DevSet_Images/BostonMarathon/fakes/boston_fake_25.jpg     \b\b\b\b 15%\b\b\b\b 16%\b\b\b\b 17%\b\b\b\b 18%\b\b\b\b\b  OK \n",
            "Extracting  Medieval2015_DevSet_Images/BostonMarathon/fakes/boston_fake_26.jpg     \b\b\b\b 18%\b\b\b\b 19%\b\b\b\b 20%\b\b\b\b 21%\b\b\b\b\b  OK \n",
            "Extracting  Medieval2015_DevSet_Images/BostonMarathon/fakes/boston_fake_27.png     \b\b\b\b 22%\b\b\b\b\b  OK \n",
            "Extracting  Medieval2015_DevSet_Images/BostonMarathon/fakes/boston_fake_28.jpg     \b\b\b\b 22%\b\b\b\b\b  OK \n",
            "Extracting  Medieval2015_DevSet_Images/BostonMarathon/fakes/boston_fake_29.jpg     \b\b\b\b 23%\b\b\b\b\b  OK \n",
            "Extracting  Medieval2015_DevSet_Images/BostonMarathon/fakes/boston_fake_30.jpg     \b\b\b\b 24%\b\b\b\b\b  OK \n",
            "Extracting  Medieval2015_DevSet_Images/BostonMarathon/fakes/boston_fake_31.jpg     \b\b\b\b 24%\b\b\b\b\b  OK \n",
            "Extracting  Medieval2015_DevSet_Images/BostonMarathon/fakes/boston_fake_32.jpg     \b\b\b\b 24%\b\b\b\b 25%\b\b\b\b\b  OK \n",
            "Extracting  Medieval2015_DevSet_Images/BostonMarathon/fakes/boston_fake_33.jpg     \b\b\b\b 25%\b\b\b\b 26%\b\b\b\b\b  OK \n",
            "Extracting  Medieval2015_DevSet_Images/BostonMarathon/fakes/boston_fake_34.png     \b\b\b\b 27%\b\b\b\b\b  OK \n",
            "Creating    Medieval2015_DevSet_Images/BostonMarathon/reals           OK\n",
            "Extracting  Medieval2015_DevSet_Images/BostonMarathon/reals/boston_real_01.jpg     \b\b\b\b 27%\b\b\b\b\b  OK \n",
            "Extracting  Medieval2015_DevSet_Images/BostonMarathon/reals/boston_real_02.jpg     \b\b\b\b 27%\b\b\b\b\b  OK \n",
            "Extracting  Medieval2015_DevSet_Images/BostonMarathon/reals/boston_real_03.jpg     \b\b\b\b 27%\b\b\b\b\b  OK \n",
            "Extracting  Medieval2015_DevSet_Images/BostonMarathon/reals/boston_real_04.jpg     \b\b\b\b 27%\b\b\b\b\b  OK \n",
            "Extracting  Medieval2015_DevSet_Images/BostonMarathon/reals/boston_real_06.jpg     \b\b\b\b 27%\b\b\b\b\b  OK \n",
            "Extracting  Medieval2015_DevSet_Images/BostonMarathon/reals/boston_real_07.jpg     \b\b\b\b 27%\b\b\b\b\b  OK \n",
            "Extracting  Medieval2015_DevSet_Images/BostonMarathon/reals/boston_real_08.jpg     \b\b\b\b 27%\b\b\b\b\b  OK \n",
            "Extracting  Medieval2015_DevSet_Images/BostonMarathon/reals/boston_real_09.jpg     \b\b\b\b 28%\b\b\b\b\b  OK \n",
            "Extracting  Medieval2015_DevSet_Images/BostonMarathon/reals/boston_real_10.jpg     \b\b\b\b 28%\b\b\b\b\b  OK \n",
            "Extracting  Medieval2015_DevSet_Images/BostonMarathon/reals/boston_real_11.jpg     \b\b\b\b 28%\b\b\b\b\b  OK \n",
            "Extracting  Medieval2015_DevSet_Images/BostonMarathon/reals/boston_real_12.jpg     \b\b\b\b 28%\b\b\b\b\b  OK \n",
            "Extracting  Medieval2015_DevSet_Images/BostonMarathon/reals/boston_real_13.png     \b\b\b\b 29%\b\b\b\b\b  OK \n",
            "Extracting  Medieval2015_DevSet_Images/BostonMarathon/reals/boston_real_14.jpg     \b\b\b\b 29%\b\b\b\b 30%\b\b\b\b\b  OK \n",
            "Extracting  Medieval2015_DevSet_Images/BostonMarathon/reals/boston_real_15.jpg     \b\b\b\b 31%\b\b\b\b\b  OK \n",
            "Extracting  Medieval2015_DevSet_Images/BostonMarathon/reals/boston_real_16.jpg     \b\b\b\b 31%\b\b\b\b\b  OK \n",
            "Extracting  Medieval2015_DevSet_Images/BostonMarathon/reals/boston_real_17.jpg     \b\b\b\b 31%\b\b\b\b\b  OK \n",
            "Extracting  Medieval2015_DevSet_Images/BostonMarathon/reals/boston_real_18.jpg     \b\b\b\b 31%\b\b\b\b\b  OK \n",
            "Extracting  Medieval2015_DevSet_Images/BostonMarathon/reals/boston_real_19.png     \b\b\b\b 32%\b\b\b\b\b  OK \n",
            "Extracting  Medieval2015_DevSet_Images/BostonMarathon/reals/boston_real_20.jpg     \b\b\b\b 32%\b\b\b\b\b  OK \n",
            "Extracting  Medieval2015_DevSet_Images/BostonMarathon/reals/boston_real_21.jpg     \b\b\b\b 33%\b\b\b\b\b  OK \n",
            "Extracting  Medieval2015_DevSet_Images/BostonMarathon/reals/boston_real_22.jpg     \b\b\b\b 33%\b\b\b\b\b  OK \n",
            "Extracting  Medieval2015_DevSet_Images/BostonMarathon/reals/boston_real_23.jpg     \b\b\b\b 33%\b\b\b\b\b  OK \n",
            "Extracting  Medieval2015_DevSet_Images/BostonMarathon/reals/boston_real_24.jpg     \b\b\b\b 33%\b\b\b\b\b  OK \n",
            "Extracting  Medieval2015_DevSet_Images/BostonMarathon/reals/boston_real_25.jpg     \b\b\b\b 33%\b\b\b\b 34%\b\b\b\b\b  OK \n",
            "Extracting  Medieval2015_DevSet_Images/BostonMarathon/reals/boston_real_26.jpg     \b\b\b\b 34%\b\b\b\b\b  OK \n",
            "Extracting  Medieval2015_DevSet_Images/BostonMarathon/reals/boston_real_27.jpg     \b\b\b\b 34%\b\b\b\b\b  OK \n",
            "Extracting  Medieval2015_DevSet_Images/BostonMarathon/reals/boston_real_28.jpg     \b\b\b\b 34%\b\b\b\b\b  OK \n",
            "Extracting  Medieval2015_DevSet_Images/BostonMarathon/reals/boston_real_29.jpg     \b\b\b\b 34%\b\b\b\b\b  OK \n",
            "Creating    Medieval2015_DevSet_Images/Bring Back Our Girls           OK\n",
            "Creating    Medieval2015_DevSet_Images/Bring Back Our Girls/fakes     OK\n",
            "Extracting  Medieval2015_DevSet_Images/Bring Back Our Girls/fakes/bringback_fake_01.jpg     \b\b\b\b 34%\b\b\b\b\b  OK \n",
            "Extracting  Medieval2015_DevSet_Images/Bring Back Our Girls/fakes/bringback_fake_02.jpg     \b\b\b\b 34%\b\b\b\b\b  OK \n",
            "Extracting  Medieval2015_DevSet_Images/Bring Back Our Girls/fakes/bringback_fake_03.jpg     \b\b\b\b 34%\b\b\b\b\b  OK \n",
            "Extracting  Medieval2015_DevSet_Images/Bring Back Our Girls/fakes/bringback_fake_04.jpg     \b\b\b\b 34%\b\b\b\b\b  OK \n",
            "Extracting  Medieval2015_DevSet_Images/Bring Back Our Girls/fakes/bringback_fake_05.jpg     \b\b\b\b 34%\b\b\b\b\b  OK \n",
            "Extracting  Medieval2015_DevSet_Images/Bring Back Our Girls/fakes/bringback_fake_06.jpg     \b\b\b\b 34%\b\b\b\b\b  OK \n",
            "Extracting  Medieval2015_DevSet_Images/Bring Back Our Girls/fakes/bringback_fake_07.jpg     \b\b\b\b 35%\b\b\b\b\b  OK \n",
            "Creating    Medieval2015_DevSet_Images/Columbian Chemicals            OK\n",
            "Creating    Medieval2015_DevSet_Images/Columbian Chemicals/fakes      OK\n",
            "Extracting  Medieval2015_DevSet_Images/Columbian Chemicals/fakes/columbianChemicals_fake_01.jpg     \b\b\b\b 35%\b\b\b\b\b  OK \n",
            "Extracting  Medieval2015_DevSet_Images/Columbian Chemicals/fakes/columbianChemicals_fake_02.jpg     \b\b\b\b 35%\b\b\b\b\b  OK \n",
            "Extracting  Medieval2015_DevSet_Images/Columbian Chemicals/fakes/columbianChemicals_fake_03.jpg     \b\b\b\b 35%\b\b\b\b\b  OK \n",
            "Extracting  Medieval2015_DevSet_Images/Columbian Chemicals/fakes/columbianChemicals_fake_04.jpg     \b\b\b\b 35%\b\b\b\b\b  OK \n",
            "Extracting  Medieval2015_DevSet_Images/Columbian Chemicals/fakes/columbianChemicals_fake_05.png     \b\b\b\b 35%\b\b\b\b\b  OK \n",
            "Extracting  Medieval2015_DevSet_Images/Columbian Chemicals/fakes/columbianChemicals_fake_06.jpg     \b\b\b\b 36%\b\b\b\b\b  OK \n",
            "Extracting  Medieval2015_DevSet_Images/Columbian Chemicals/fakes/columbianChemicals_fake_07.jpg     \b\b\b\b 36%\b\b\b\b\b  OK \n",
            "Extracting  Medieval2015_DevSet_Images/Columbian Chemicals/fakes/columbianChemicals_fake_08.jpg     \b\b\b\b 36%\b\b\b\b\b  OK \n",
            "Extracting  Medieval2015_DevSet_Images/Columbian Chemicals/fakes/columbianChemicals_fake_09.png     \b\b\b\b 36%\b\b\b\b\b  OK \n",
            "Extracting  Medieval2015_DevSet_Images/Columbian Chemicals/fakes/columbianChemicals_fake_10.jpg     \b\b\b\b 36%\b\b\b\b\b  OK \n",
            "Extracting  Medieval2015_DevSet_Images/Columbian Chemicals/fakes/columbianChemicals_fake_11.png     \b\b\b\b 36%\b\b\b\b 37%\b\b\b\b\b  OK \n",
            "Extracting  Medieval2015_DevSet_Images/Columbian Chemicals/fakes/columbianChemicals_fake_12.jpg     \b\b\b\b 37%\b\b\b\b\b  OK \n",
            "Extracting  Medieval2015_DevSet_Images/Columbian Chemicals/fakes/columbianChemicals_fake_13.jpg     \b\b\b\b 37%\b\b\b\b\b  OK \n",
            "Extracting  Medieval2015_DevSet_Images/Columbian Chemicals/fakes/columbianChemicals_fake_14.jpg     \b\b\b\b 37%\b\b\b\b\b  OK \n",
            "Extracting  Medieval2015_DevSet_Images/Columbian Chemicals/fakes/columbianChemicals_fake_15.jpg     \b\b\b\b 37%\b\b\b\b\b  OK \n",
            "Creating    Medieval2015_DevSet_Images/Hurricane Sandy                OK\n",
            "Creating    Medieval2015_DevSet_Images/Hurricane Sandy/fakes          OK\n",
            "Extracting  Medieval2015_DevSet_Images/Hurricane Sandy/fakes/sandyA_fake_01.jpg     \b\b\b\b 37%\b\b\b\b\b  OK \n",
            "Extracting  Medieval2015_DevSet_Images/Hurricane Sandy/fakes/sandyA_fake_02.jpg     \b\b\b\b 37%\b\b\b\b\b  OK \n",
            "Extracting  Medieval2015_DevSet_Images/Hurricane Sandy/fakes/sandyA_fake_03.jpg     \b\b\b\b 37%\b\b\b\b\b  OK \n",
            "Extracting  Medieval2015_DevSet_Images/Hurricane Sandy/fakes/sandyA_fake_04.jpg     \b\b\b\b 38%\b\b\b\b\b  OK \n",
            "Extracting  Medieval2015_DevSet_Images/Hurricane Sandy/fakes/sandyA_fake_05.jpg     \b\b\b\b 38%\b\b\b\b\b  OK \n",
            "Extracting  Medieval2015_DevSet_Images/Hurricane Sandy/fakes/sandyA_fake_06.jpg     \b\b\b\b 38%\b\b\b\b\b  OK \n",
            "Extracting  Medieval2015_DevSet_Images/Hurricane Sandy/fakes/sandyA_fake_07.jpg     \b\b\b\b 38%\b\b\b\b\b  OK \n",
            "Extracting  Medieval2015_DevSet_Images/Hurricane Sandy/fakes/sandyA_fake_08.jpg     \b\b\b\b 38%\b\b\b\b\b  OK \n",
            "Extracting  Medieval2015_DevSet_Images/Hurricane Sandy/fakes/sandyA_fake_09.jpg     \b\b\b\b 38%\b\b\b\b\b  OK \n",
            "Extracting  Medieval2015_DevSet_Images/Hurricane Sandy/fakes/sandyA_fake_10.jpg     \b\b\b\b 38%\b\b\b\b\b  OK \n",
            "Extracting  Medieval2015_DevSet_Images/Hurricane Sandy/fakes/sandyA_fake_11.jpg     \b\b\b\b 39%\b\b\b\b\b  OK \n",
            "Extracting  Medieval2015_DevSet_Images/Hurricane Sandy/fakes/sandyA_fake_12.jpg     \b\b\b\b 39%\b\b\b\b\b  OK \n",
            "Extracting  Medieval2015_DevSet_Images/Hurricane Sandy/fakes/sandyA_fake_13.jpg     \b\b\b\b 39%\b\b\b\b\b  OK \n",
            "Extracting  Medieval2015_DevSet_Images/Hurricane Sandy/fakes/sandyA_fake_14.jpg     \b\b\b\b 39%\b\b\b\b\b  OK \n",
            "Extracting  Medieval2015_DevSet_Images/Hurricane Sandy/fakes/sandyA_fake_15.jpg     \b\b\b\b 39%\b\b\b\b\b  OK \n",
            "Extracting  Medieval2015_DevSet_Images/Hurricane Sandy/fakes/sandyA_fake_16.jpg     \b\b\b\b 40%\b\b\b\b\b  OK \n",
            "Extracting  Medieval2015_DevSet_Images/Hurricane Sandy/fakes/sandyA_fake_17.jpg     \b\b\b\b 40%\b\b\b\b\b  OK \n",
            "Extracting  Medieval2015_DevSet_Images/Hurricane Sandy/fakes/sandyA_fake_18.jpg     \b\b\b\b 40%\b\b\b\b\b  OK \n",
            "Extracting  Medieval2015_DevSet_Images/Hurricane Sandy/fakes/sandyA_fake_19.jpg     \b\b\b\b 40%\b\b\b\b\b  OK \n",
            "Extracting  Medieval2015_DevSet_Images/Hurricane Sandy/fakes/sandyA_fake_20.jpg     \b\b\b\b 40%\b\b\b\b\b  OK \n",
            "Extracting  Medieval2015_DevSet_Images/Hurricane Sandy/fakes/sandyA_fake_21.jpg     \b\b\b\b 41%\b\b\b\b\b  OK \n",
            "Extracting  Medieval2015_DevSet_Images/Hurricane Sandy/fakes/sandyA_fake_22.jpg     \b\b\b\b 41%\b\b\b\b\b  OK \n",
            "Extracting  Medieval2015_DevSet_Images/Hurricane Sandy/fakes/sandyA_fake_23.jpg     \b\b\b\b 41%\b\b\b\b\b  OK \n",
            "Extracting  Medieval2015_DevSet_Images/Hurricane Sandy/fakes/sandyA_fake_24.jpg     \b\b\b\b 41%\b\b\b\b\b  OK \n",
            "Extracting  Medieval2015_DevSet_Images/Hurricane Sandy/fakes/sandyA_fake_25.jpg     \b\b\b\b 41%\b\b\b\b\b  OK \n",
            "Extracting  Medieval2015_DevSet_Images/Hurricane Sandy/fakes/sandyA_fake_26.jpg     \b\b\b\b 41%\b\b\b\b\b  OK \n",
            "Extracting  Medieval2015_DevSet_Images/Hurricane Sandy/fakes/sandyA_fake_27.jpg     \b\b\b\b 41%\b\b\b\b\b  OK \n",
            "Extracting  Medieval2015_DevSet_Images/Hurricane Sandy/fakes/sandyA_fake_28.jpg     \b\b\b\b 42%\b\b\b\b\b  OK \n",
            "Extracting  Medieval2015_DevSet_Images/Hurricane Sandy/fakes/sandyA_fake_29.jpg     \b\b\b\b 42%\b\b\b\b\b  OK \n",
            "Extracting  Medieval2015_DevSet_Images/Hurricane Sandy/fakes/sandyA_fake_30.jpg     \b\b\b\b 42%\b\b\b\b\b  OK \n",
            "Extracting  Medieval2015_DevSet_Images/Hurricane Sandy/fakes/sandyA_fake_31.jpg     \b\b\b\b 42%\b\b\b\b\b  OK \n",
            "Extracting  Medieval2015_DevSet_Images/Hurricane Sandy/fakes/sandyA_fake_32.jpg     \b\b\b\b 42%\b\b\b\b\b  OK \n",
            "Extracting  Medieval2015_DevSet_Images/Hurricane Sandy/fakes/sandyA_fake_33.jpg     \b\b\b\b 42%\b\b\b\b\b  OK \n",
            "Extracting  Medieval2015_DevSet_Images/Hurricane Sandy/fakes/sandyA_fake_34.jpg     \b\b\b\b 42%\b\b\b\b\b  OK \n",
            "Extracting  Medieval2015_DevSet_Images/Hurricane Sandy/fakes/sandyA_fake_35.jpg     \b\b\b\b 42%\b\b\b\b\b  OK \n",
            "Extracting  Medieval2015_DevSet_Images/Hurricane Sandy/fakes/sandyA_fake_36.jpeg     \b\b\b\b 42%\b\b\b\b\b  OK \n",
            "Extracting  Medieval2015_DevSet_Images/Hurricane Sandy/fakes/sandyA_fake_37.jpg     \b\b\b\b 42%\b\b\b\b\b  OK \n",
            "Extracting  Medieval2015_DevSet_Images/Hurricane Sandy/fakes/sandyA_fake_38.jpg     \b\b\b\b 42%\b\b\b\b\b  OK \n",
            "Extracting  Medieval2015_DevSet_Images/Hurricane Sandy/fakes/sandyA_fake_39.jpg     \b\b\b\b 43%\b\b\b\b\b  OK \n",
            "Extracting  Medieval2015_DevSet_Images/Hurricane Sandy/fakes/sandyA_fake_40.jpg     \b\b\b\b 43%\b\b\b\b\b  OK \n",
            "Extracting  Medieval2015_DevSet_Images/Hurricane Sandy/fakes/sandyA_fake_41.jpg     \b\b\b\b 43%\b\b\b\b\b  OK \n",
            "Extracting  Medieval2015_DevSet_Images/Hurricane Sandy/fakes/sandyA_fake_42.jpg     \b\b\b\b 43%\b\b\b\b\b  OK \n",
            "Extracting  Medieval2015_DevSet_Images/Hurricane Sandy/fakes/sandyA_fake_43.jpg     \b\b\b\b 43%\b\b\b\b\b  OK \n",
            "Extracting  Medieval2015_DevSet_Images/Hurricane Sandy/fakes/sandyA_fake_44.jpg     \b\b\b\b 43%\b\b\b\b\b  OK \n",
            "Extracting  Medieval2015_DevSet_Images/Hurricane Sandy/fakes/sandyA_fake_45.jpg     \b\b\b\b 43%\b\b\b\b\b  OK \n",
            "Extracting  Medieval2015_DevSet_Images/Hurricane Sandy/fakes/sandyA_fake_46.jpg     \b\b\b\b 43%\b\b\b\b\b  OK \n",
            "Extracting  Medieval2015_DevSet_Images/Hurricane Sandy/fakes/sandyA_fake_47.jpg     \b\b\b\b 43%\b\b\b\b\b  OK \n",
            "Extracting  Medieval2015_DevSet_Images/Hurricane Sandy/fakes/sandyA_fake_48.jpg     \b\b\b\b 43%\b\b\b\b\b  OK \n",
            "Extracting  Medieval2015_DevSet_Images/Hurricane Sandy/fakes/sandyA_fake_49.jpg     \b\b\b\b 43%\b\b\b\b\b  OK \n",
            "Extracting  Medieval2015_DevSet_Images/Hurricane Sandy/fakes/sandyB_fake_01.jpg     \b\b\b\b 44%\b\b\b\b\b  OK \n",
            "Extracting  Medieval2015_DevSet_Images/Hurricane Sandy/fakes/sandyB_fake_02.jpg     \b\b\b\b 44%\b\b\b\b\b  OK \n",
            "Extracting  Medieval2015_DevSet_Images/Hurricane Sandy/fakes/sandyB_fake_03.jpg     \b\b\b\b 44%\b\b\b\b\b  OK \n",
            "Extracting  Medieval2015_DevSet_Images/Hurricane Sandy/fakes/sandyB_fake_04.jpg     \b\b\b\b 44%\b\b\b\b\b  OK \n",
            "Extracting  Medieval2015_DevSet_Images/Hurricane Sandy/fakes/sandyB_fake_05.jpg     \b\b\b\b 44%\b\b\b\b\b  OK \n",
            "Extracting  Medieval2015_DevSet_Images/Hurricane Sandy/fakes/sandyB_fake_06.jpg     \b\b\b\b 44%\b\b\b\b\b  OK \n",
            "Extracting  Medieval2015_DevSet_Images/Hurricane Sandy/fakes/sandyB_fake_07.jpg     \b\b\b\b 44%\b\b\b\b\b  OK \n",
            "Extracting  Medieval2015_DevSet_Images/Hurricane Sandy/fakes/sandyB_fake_08.jpg     \b\b\b\b 44%\b\b\b\b\b  OK \n",
            "Extracting  Medieval2015_DevSet_Images/Hurricane Sandy/fakes/sandyB_fake_10.jpg     \b\b\b\b 45%\b\b\b\b\b  OK \n",
            "Extracting  Medieval2015_DevSet_Images/Hurricane Sandy/fakes/sandyB_fake_11.jpg     \b\b\b\b 45%\b\b\b\b\b  OK \n",
            "Extracting  Medieval2015_DevSet_Images/Hurricane Sandy/fakes/sandyB_fake_12.jpg     \b\b\b\b 45%\b\b\b\b\b  OK \n",
            "Extracting  Medieval2015_DevSet_Images/Hurricane Sandy/fakes/sandyB_fake_13.jpg     \b\b\b\b 45%\b\b\b\b\b  OK \n",
            "Extracting  Medieval2015_DevSet_Images/Hurricane Sandy/fakes/sandyB_fake_14.jpg     \b\b\b\b 45%\b\b\b\b\b  OK \n",
            "Creating    Medieval2015_DevSet_Images/Hurricane Sandy/reals          OK\n",
            "Extracting  Medieval2015_DevSet_Images/Hurricane Sandy/reals/sandyA_real_01.jpg     \b\b\b\b 45%\b\b\b\b\b  OK \n",
            "Extracting  Medieval2015_DevSet_Images/Hurricane Sandy/reals/sandyA_real_02.jpg     \b\b\b\b 45%\b\b\b\b\b  OK \n",
            "Extracting  Medieval2015_DevSet_Images/Hurricane Sandy/reals/sandyA_real_03.jpg     \b\b\b\b 45%\b\b\b\b\b  OK \n",
            "Extracting  Medieval2015_DevSet_Images/Hurricane Sandy/reals/sandyA_real_04.jpg     \b\b\b\b 46%\b\b\b\b\b  OK \n",
            "Extracting  Medieval2015_DevSet_Images/Hurricane Sandy/reals/sandyA_real_05.jpg     \b\b\b\b 46%\b\b\b\b\b  OK \n",
            "Extracting  Medieval2015_DevSet_Images/Hurricane Sandy/reals/sandyA_real_06.jpg     \b\b\b\b 46%\b\b\b\b\b  OK \n",
            "Extracting  Medieval2015_DevSet_Images/Hurricane Sandy/reals/sandyA_real_07.jpg     \b\b\b\b 46%\b\b\b\b\b  OK \n",
            "Extracting  Medieval2015_DevSet_Images/Hurricane Sandy/reals/sandyA_real_08.jpg     \b\b\b\b 46%\b\b\b\b\b  OK \n",
            "Extracting  Medieval2015_DevSet_Images/Hurricane Sandy/reals/sandyA_real_09.jpg     \b\b\b\b 46%\b\b\b\b\b  OK \n",
            "Extracting  Medieval2015_DevSet_Images/Hurricane Sandy/reals/sandyA_real_10.jpg     \b\b\b\b 46%\b\b\b\b\b  OK \n",
            "Extracting  Medieval2015_DevSet_Images/Hurricane Sandy/reals/sandyA_real_11.jpg     \b\b\b\b 46%\b\b\b\b 47%\b\b\b\b\b  OK \n",
            "Extracting  Medieval2015_DevSet_Images/Hurricane Sandy/reals/sandyA_real_12.jpg     \b\b\b\b 47%\b\b\b\b\b  OK \n",
            "Extracting  Medieval2015_DevSet_Images/Hurricane Sandy/reals/sandyA_real_13.jpg     \b\b\b\b 47%\b\b\b\b\b  OK \n",
            "Extracting  Medieval2015_DevSet_Images/Hurricane Sandy/reals/sandyA_real_14.png     \b\b\b\b 49%\b\b\b\b\b  OK \n",
            "Extracting  Medieval2015_DevSet_Images/Hurricane Sandy/reals/sandyA_real_15.jpg     \b\b\b\b 49%\b\b\b\b\b  OK \n",
            "Extracting  Medieval2015_DevSet_Images/Hurricane Sandy/reals/sandyA_real_16.jpg     \b\b\b\b 49%\b\b\b\b\b  OK \n",
            "Extracting  Medieval2015_DevSet_Images/Hurricane Sandy/reals/sandyA_real_17.jpg     \b\b\b\b 49%\b\b\b\b\b  OK \n",
            "Extracting  Medieval2015_DevSet_Images/Hurricane Sandy/reals/sandyA_real_18.jpg     \b\b\b\b 50%\b\b\b\b\b  OK \n",
            "Extracting  Medieval2015_DevSet_Images/Hurricane Sandy/reals/sandyA_real_19.jpg     \b\b\b\b 50%\b\b\b\b\b  OK \n",
            "Extracting  Medieval2015_DevSet_Images/Hurricane Sandy/reals/sandyA_real_20.jpg     \b\b\b\b 50%\b\b\b\b\b  OK \n",
            "Extracting  Medieval2015_DevSet_Images/Hurricane Sandy/reals/sandyA_real_21.jpg     \b\b\b\b 50%\b\b\b\b\b  OK \n",
            "Extracting  Medieval2015_DevSet_Images/Hurricane Sandy/reals/sandyA_real_22.jpg     \b\b\b\b 51%\b\b\b\b\b  OK \n",
            "Extracting  Medieval2015_DevSet_Images/Hurricane Sandy/reals/sandyA_real_23.jpg     \b\b\b\b 51%\b\b\b\b\b  OK \n",
            "Extracting  Medieval2015_DevSet_Images/Hurricane Sandy/reals/sandyA_real_24.jpg     \b\b\b\b 51%\b\b\b\b\b  OK \n",
            "Extracting  Medieval2015_DevSet_Images/Hurricane Sandy/reals/sandyA_real_25.jpg     \b\b\b\b 51%\b\b\b\b\b  OK \n",
            "Extracting  Medieval2015_DevSet_Images/Hurricane Sandy/reals/sandyA_real_26.jpg     \b\b\b\b 51%\b\b\b\b\b  OK \n",
            "Extracting  Medieval2015_DevSet_Images/Hurricane Sandy/reals/sandyA_real_27.jpg     \b\b\b\b 51%\b\b\b\b\b  OK \n",
            "Extracting  Medieval2015_DevSet_Images/Hurricane Sandy/reals/sandyA_real_28.jpg     \b\b\b\b 52%\b\b\b\b\b  OK \n",
            "Extracting  Medieval2015_DevSet_Images/Hurricane Sandy/reals/sandyA_real_29.jpg     \b\b\b\b 52%\b\b\b\b\b  OK \n",
            "Extracting  Medieval2015_DevSet_Images/Hurricane Sandy/reals/sandyA_real_30.jpg     \b\b\b\b 52%\b\b\b\b\b  OK \n",
            "Extracting  Medieval2015_DevSet_Images/Hurricane Sandy/reals/sandyA_real_31.jpg     \b\b\b\b 52%\b\b\b\b 53%\b\b\b\b\b  OK \n",
            "Extracting  Medieval2015_DevSet_Images/Hurricane Sandy/reals/sandyA_real_32.jpg     \b\b\b\b 53%\b\b\b\b 54%\b\b\b\b\b  OK \n",
            "Extracting  Medieval2015_DevSet_Images/Hurricane Sandy/reals/sandyA_real_33.jpg     \b\b\b\b 54%\b\b\b\b 55%\b\b\b\b\b  OK \n",
            "Extracting  Medieval2015_DevSet_Images/Hurricane Sandy/reals/sandyA_real_34.jpg     \b\b\b\b 55%\b\b\b\b\b  OK \n",
            "Extracting  Medieval2015_DevSet_Images/Hurricane Sandy/reals/sandyA_real_35.jpg     \b\b\b\b 55%\b\b\b\b\b  OK \n",
            "Extracting  Medieval2015_DevSet_Images/Hurricane Sandy/reals/sandyA_real_36.jpg     \b\b\b\b 55%\b\b\b\b 56%\b\b\b\b\b  OK \n",
            "Extracting  Medieval2015_DevSet_Images/Hurricane Sandy/reals/sandyA_real_37.jpg     \b\b\b\b 57%\b\b\b\b\b  OK \n",
            "Extracting  Medieval2015_DevSet_Images/Hurricane Sandy/reals/sandyA_real_38.jpg     \b\b\b\b 57%\b\b\b\b\b  OK \n",
            "Extracting  Medieval2015_DevSet_Images/Hurricane Sandy/reals/sandyA_real_39.jpg     \b\b\b\b 57%\b\b\b\b\b  OK \n",
            "Extracting  Medieval2015_DevSet_Images/Hurricane Sandy/reals/sandyA_real_40.jpg     \b\b\b\b 57%\b\b\b\b\b  OK \n",
            "Extracting  Medieval2015_DevSet_Images/Hurricane Sandy/reals/sandyA_real_41.jpg     \b\b\b\b 57%\b\b\b\b 58%\b\b\b\b\b  OK \n",
            "Extracting  Medieval2015_DevSet_Images/Hurricane Sandy/reals/sandyA_real_42.jpg     \b\b\b\b 58%\b\b\b\b\b  OK \n",
            "Extracting  Medieval2015_DevSet_Images/Hurricane Sandy/reals/sandyA_real_43.jpg     \b\b\b\b 58%\b\b\b\b\b  OK \n",
            "Extracting  Medieval2015_DevSet_Images/Hurricane Sandy/reals/sandyA_real_44.jpg     \b\b\b\b 58%\b\b\b\b 59%\b\b\b\b\b  OK \n",
            "Extracting  Medieval2015_DevSet_Images/Hurricane Sandy/reals/sandyA_real_45.jpg     \b\b\b\b 59%\b\b\b\b\b  OK \n",
            "Extracting  Medieval2015_DevSet_Images/Hurricane Sandy/reals/sandyA_real_46.jpg     \b\b\b\b 59%\b\b\b\b\b  OK \n",
            "Extracting  Medieval2015_DevSet_Images/Hurricane Sandy/reals/sandyA_real_47.jpg     \b\b\b\b 59%\b\b\b\b 60%\b\b\b\b\b  OK \n",
            "Extracting  Medieval2015_DevSet_Images/Hurricane Sandy/reals/sandyA_real_48.jpg     \b\b\b\b 60%\b\b\b\b\b  OK \n",
            "Extracting  Medieval2015_DevSet_Images/Hurricane Sandy/reals/sandyA_real_49.jpg     \b\b\b\b 60%\b\b\b\b 61%\b\b\b\b\b  OK \n",
            "Extracting  Medieval2015_DevSet_Images/Hurricane Sandy/reals/sandyA_real_50.jpg     \b\b\b\b 62%\b\b\b\b\b  OK \n",
            "Extracting  Medieval2015_DevSet_Images/Hurricane Sandy/reals/sandyA_real_51.jpg     \b\b\b\b 62%\b\b\b\b\b  OK \n",
            "Extracting  Medieval2015_DevSet_Images/Hurricane Sandy/reals/sandyA_real_52.jpg     \b\b\b\b 63%\b\b\b\b\b  OK \n",
            "Extracting  Medieval2015_DevSet_Images/Hurricane Sandy/reals/sandyA_real_53.jpg     \b\b\b\b 63%\b\b\b\b\b  OK \n",
            "Extracting  Medieval2015_DevSet_Images/Hurricane Sandy/reals/sandyA_real_54.jpg     \b\b\b\b 63%\b\b\b\b 64%\b\b\b\b\b  OK \n",
            "Extracting  Medieval2015_DevSet_Images/Hurricane Sandy/reals/sandyA_real_55.jpg     \b\b\b\b 64%\b\b\b\b 65%\b\b\b\b\b  OK \n",
            "Extracting  Medieval2015_DevSet_Images/Hurricane Sandy/reals/sandyA_real_56.jpg     \b\b\b\b 65%\b\b\b\b\b  OK \n",
            "Extracting  Medieval2015_DevSet_Images/Hurricane Sandy/reals/sandyA_real_58.jpg     \b\b\b\b 65%\b\b\b\b\b  OK \n",
            "Extracting  Medieval2015_DevSet_Images/Hurricane Sandy/reals/sandyA_real_59.png     \b\b\b\b 66%\b\b\b\b\b  OK \n",
            "Extracting  Medieval2015_DevSet_Images/Hurricane Sandy/reals/sandyA_real_60.jpg     \b\b\b\b 66%\b\b\b\b\b  OK \n",
            "Extracting  Medieval2015_DevSet_Images/Hurricane Sandy/reals/sandyA_real_61.jpg     \b\b\b\b 66%\b\b\b\b 67%\b\b\b\b 68%\b\b\b\b\b  OK \n",
            "Extracting  Medieval2015_DevSet_Images/Hurricane Sandy/reals/sandyA_real_62.jpg     \b\b\b\b 68%\b\b\b\b\b  OK \n",
            "Extracting  Medieval2015_DevSet_Images/Hurricane Sandy/reals/sandyB_real_01.jpg     \b\b\b\b 68%\b\b\b\b\b  OK \n",
            "Extracting  Medieval2015_DevSet_Images/Hurricane Sandy/reals/sandyB_real_02.jpg     \b\b\b\b 68%\b\b\b\b\b  OK \n",
            "Extracting  Medieval2015_DevSet_Images/Hurricane Sandy/reals/sandyB_real_04.jpg     \b\b\b\b 68%\b\b\b\b\b  OK \n",
            "Extracting  Medieval2015_DevSet_Images/Hurricane Sandy/reals/sandyB_real_07.jpg     \b\b\b\b 68%\b\b\b\b\b  OK \n",
            "Extracting  Medieval2015_DevSet_Images/Hurricane Sandy/reals/sandyB_real_08.jpg     \b\b\b\b 68%\b\b\b\b\b  OK \n",
            "Extracting  Medieval2015_DevSet_Images/Hurricane Sandy/reals/sandyB_real_09.png     \b\b\b\b 69%\b\b\b\b\b  OK \n",
            "Extracting  Medieval2015_DevSet_Images/Hurricane Sandy/reals/sandyB_real_10.png     \b\b\b\b 70%\b\b\b\b\b  OK \n",
            "Extracting  Medieval2015_DevSet_Images/Hurricane Sandy/reals/sandyB_real_100.jpg     \b\b\b\b 71%\b\b\b\b\b  OK \n",
            "Extracting  Medieval2015_DevSet_Images/Hurricane Sandy/reals/sandyB_real_101.jpg     \b\b\b\b 71%\b\b\b\b\b  OK \n",
            "Extracting  Medieval2015_DevSet_Images/Hurricane Sandy/reals/sandyB_real_102.jpg     \b\b\b\b 71%\b\b\b\b\b  OK \n",
            "Extracting  Medieval2015_DevSet_Images/Hurricane Sandy/reals/sandyB_real_11.jpg     \b\b\b\b 71%\b\b\b\b\b  OK \n",
            "Extracting  Medieval2015_DevSet_Images/Hurricane Sandy/reals/sandyB_real_12.jpg     \b\b\b\b 71%\b\b\b\b\b  OK \n",
            "Extracting  Medieval2015_DevSet_Images/Hurricane Sandy/reals/sandyB_real_13.jpg     \b\b\b\b 71%\b\b\b\b\b  OK \n",
            "Extracting  Medieval2015_DevSet_Images/Hurricane Sandy/reals/sandyB_real_14.jpg     \b\b\b\b 71%\b\b\b\b\b  OK \n",
            "Extracting  Medieval2015_DevSet_Images/Hurricane Sandy/reals/sandyB_real_16.jpg     \b\b\b\b 71%\b\b\b\b\b  OK \n",
            "Extracting  Medieval2015_DevSet_Images/Hurricane Sandy/reals/sandyB_real_17.jpg     \b\b\b\b 72%\b\b\b\b\b  OK \n",
            "Extracting  Medieval2015_DevSet_Images/Hurricane Sandy/reals/sandyB_real_18.jpg     \b\b\b\b 72%\b\b\b\b\b  OK \n",
            "Extracting  Medieval2015_DevSet_Images/Hurricane Sandy/reals/sandyB_real_19.jpg     \b\b\b\b 72%\b\b\b\b\b  OK \n",
            "Extracting  Medieval2015_DevSet_Images/Hurricane Sandy/reals/sandyB_real_20.jpg     \b\b\b\b 72%\b\b\b\b\b  OK \n",
            "Extracting  Medieval2015_DevSet_Images/Hurricane Sandy/reals/sandyB_real_21.jpg     \b\b\b\b 72%\b\b\b\b\b  OK \n",
            "Extracting  Medieval2015_DevSet_Images/Hurricane Sandy/reals/sandyB_real_22.jpg     \b\b\b\b 72%\b\b\b\b\b  OK \n",
            "Extracting  Medieval2015_DevSet_Images/Hurricane Sandy/reals/sandyB_real_23.jpg     \b\b\b\b 72%\b\b\b\b\b  OK \n",
            "Extracting  Medieval2015_DevSet_Images/Hurricane Sandy/reals/sandyB_real_24.jpg     \b\b\b\b 73%\b\b\b\b\b  OK \n",
            "Extracting  Medieval2015_DevSet_Images/Hurricane Sandy/reals/sandyB_real_25.jpg     \b\b\b\b 73%\b\b\b\b\b  OK \n",
            "Extracting  Medieval2015_DevSet_Images/Hurricane Sandy/reals/sandyB_real_26.jpg     \b\b\b\b 73%\b\b\b\b\b  OK \n",
            "Extracting  Medieval2015_DevSet_Images/Hurricane Sandy/reals/sandyB_real_27.jpg     \b\b\b\b 73%\b\b\b\b\b  OK \n",
            "Extracting  Medieval2015_DevSet_Images/Hurricane Sandy/reals/sandyB_real_28.jpg     \b\b\b\b 73%\b\b\b\b\b  OK \n",
            "Extracting  Medieval2015_DevSet_Images/Hurricane Sandy/reals/sandyB_real_29.jpg     \b\b\b\b 73%\b\b\b\b\b  OK \n",
            "Extracting  Medieval2015_DevSet_Images/Hurricane Sandy/reals/sandyB_real_31.jpg     \b\b\b\b 73%\b\b\b\b\b  OK \n",
            "Extracting  Medieval2015_DevSet_Images/Hurricane Sandy/reals/sandyB_real_33.jpg     \b\b\b\b 74%\b\b\b\b\b  OK \n",
            "Extracting  Medieval2015_DevSet_Images/Hurricane Sandy/reals/sandyB_real_34.jpg     \b\b\b\b 74%\b\b\b\b\b  OK \n",
            "Extracting  Medieval2015_DevSet_Images/Hurricane Sandy/reals/sandyB_real_35.jpg     \b\b\b\b 74%\b\b\b\b\b  OK \n",
            "Extracting  Medieval2015_DevSet_Images/Hurricane Sandy/reals/sandyB_real_36.jpg     \b\b\b\b 74%\b\b\b\b\b  OK \n",
            "Extracting  Medieval2015_DevSet_Images/Hurricane Sandy/reals/sandyB_real_37.jpg     \b\b\b\b 74%\b\b\b\b\b  OK \n",
            "Extracting  Medieval2015_DevSet_Images/Hurricane Sandy/reals/sandyB_real_38.jpg     \b\b\b\b 74%\b\b\b\b\b  OK \n",
            "Extracting  Medieval2015_DevSet_Images/Hurricane Sandy/reals/sandyB_real_39.jpg     \b\b\b\b 74%\b\b\b\b\b  OK \n",
            "Extracting  Medieval2015_DevSet_Images/Hurricane Sandy/reals/sandyB_real_41.jpg     \b\b\b\b 74%\b\b\b\b\b  OK \n",
            "Extracting  Medieval2015_DevSet_Images/Hurricane Sandy/reals/sandyB_real_42.jpg     \b\b\b\b 74%\b\b\b\b\b  OK \n",
            "Extracting  Medieval2015_DevSet_Images/Hurricane Sandy/reals/sandyB_real_43.jpg     \b\b\b\b 75%\b\b\b\b\b  OK \n",
            "Extracting  Medieval2015_DevSet_Images/Hurricane Sandy/reals/sandyB_real_44.jpg     \b\b\b\b 75%\b\b\b\b\b  OK \n",
            "Extracting  Medieval2015_DevSet_Images/Hurricane Sandy/reals/sandyB_real_45.jpg     \b\b\b\b 75%\b\b\b\b\b  OK \n",
            "Extracting  Medieval2015_DevSet_Images/Hurricane Sandy/reals/sandyB_real_46.jpg     \b\b\b\b 75%\b\b\b\b\b  OK \n",
            "Extracting  Medieval2015_DevSet_Images/Hurricane Sandy/reals/sandyB_real_47.jpg     \b\b\b\b 75%\b\b\b\b\b  OK \n",
            "Extracting  Medieval2015_DevSet_Images/Hurricane Sandy/reals/sandyB_real_48.jpg     \b\b\b\b 75%\b\b\b\b\b  OK \n",
            "Extracting  Medieval2015_DevSet_Images/Hurricane Sandy/reals/sandyB_real_49.jpg     \b\b\b\b 76%\b\b\b\b\b  OK \n",
            "Extracting  Medieval2015_DevSet_Images/Hurricane Sandy/reals/sandyB_real_50.jpg     \b\b\b\b 76%\b\b\b\b\b  OK \n",
            "Extracting  Medieval2015_DevSet_Images/Hurricane Sandy/reals/sandyB_real_51.jpg     \b\b\b\b 76%\b\b\b\b\b  OK \n",
            "Extracting  Medieval2015_DevSet_Images/Hurricane Sandy/reals/sandyB_real_52.jpg     \b\b\b\b 76%\b\b\b\b\b  OK \n",
            "Extracting  Medieval2015_DevSet_Images/Hurricane Sandy/reals/sandyB_real_53.jpg     \b\b\b\b 76%\b\b\b\b\b  OK \n",
            "Extracting  Medieval2015_DevSet_Images/Hurricane Sandy/reals/sandyB_real_54.jpg     \b\b\b\b 77%\b\b\b\b\b  OK \n",
            "Extracting  Medieval2015_DevSet_Images/Hurricane Sandy/reals/sandyB_real_55.jpg     \b\b\b\b 77%\b\b\b\b\b  OK \n",
            "Extracting  Medieval2015_DevSet_Images/Hurricane Sandy/reals/sandyB_real_56.jpg     \b\b\b\b 77%\b\b\b\b\b  OK \n",
            "Extracting  Medieval2015_DevSet_Images/Hurricane Sandy/reals/sandyB_real_57.jpg     \b\b\b\b 77%\b\b\b\b\b  OK \n",
            "Extracting  Medieval2015_DevSet_Images/Hurricane Sandy/reals/sandyB_real_58.jpg     \b\b\b\b 77%\b\b\b\b\b  OK \n",
            "Extracting  Medieval2015_DevSet_Images/Hurricane Sandy/reals/sandyB_real_59.jpg     \b\b\b\b 77%\b\b\b\b 78%\b\b\b\b\b  OK \n",
            "Extracting  Medieval2015_DevSet_Images/Hurricane Sandy/reals/sandyB_real_60.jpg     \b\b\b\b 78%\b\b\b\b\b  OK \n",
            "Extracting  Medieval2015_DevSet_Images/Hurricane Sandy/reals/sandyB_real_63.jpg     \b\b\b\b 79%\b\b\b\b\b  OK \n",
            "Extracting  Medieval2015_DevSet_Images/Hurricane Sandy/reals/sandyB_real_64.jpg     \b\b\b\b 79%\b\b\b\b\b  OK \n",
            "Extracting  Medieval2015_DevSet_Images/Hurricane Sandy/reals/sandyB_real_65.jpg     \b\b\b\b 79%\b\b\b\b\b  OK \n",
            "Extracting  Medieval2015_DevSet_Images/Hurricane Sandy/reals/sandyB_real_68.jpg     \b\b\b\b 79%\b\b\b\b\b  OK \n",
            "Extracting  Medieval2015_DevSet_Images/Hurricane Sandy/reals/sandyB_real_69.jpg     \b\b\b\b 79%\b\b\b\b\b  OK \n",
            "Extracting  Medieval2015_DevSet_Images/Hurricane Sandy/reals/sandyB_real_70.jpg     \b\b\b\b 79%\b\b\b\b\b  OK \n",
            "Extracting  Medieval2015_DevSet_Images/Hurricane Sandy/reals/sandyB_real_71.jpg     \b\b\b\b 80%\b\b\b\b 81%\b\b\b\b\b  OK \n",
            "Extracting  Medieval2015_DevSet_Images/Hurricane Sandy/reals/sandyB_real_72.jpg     \b\b\b\b 81%\b\b\b\b\b  OK \n",
            "Extracting  Medieval2015_DevSet_Images/Hurricane Sandy/reals/sandyB_real_73.jpg     \b\b\b\b 81%\b\b\b\b\b  OK \n",
            "Extracting  Medieval2015_DevSet_Images/Hurricane Sandy/reals/sandyB_real_74.jpg     \b\b\b\b 81%\b\b\b\b\b  OK \n",
            "Extracting  Medieval2015_DevSet_Images/Hurricane Sandy/reals/sandyB_real_75.jpg     \b\b\b\b 81%\b\b\b\b\b  OK \n",
            "Extracting  Medieval2015_DevSet_Images/Hurricane Sandy/reals/sandyB_real_76.jpg     \b\b\b\b 81%\b\b\b\b\b  OK \n",
            "Extracting  Medieval2015_DevSet_Images/Hurricane Sandy/reals/sandyB_real_78.jpg     \b\b\b\b 82%\b\b\b\b\b  OK \n",
            "Extracting  Medieval2015_DevSet_Images/Hurricane Sandy/reals/sandyB_real_80.jpg     \b\b\b\b 82%\b\b\b\b\b  OK \n",
            "Extracting  Medieval2015_DevSet_Images/Hurricane Sandy/reals/sandyB_real_81.jpg     \b\b\b\b 82%\b\b\b\b\b  OK \n",
            "Extracting  Medieval2015_DevSet_Images/Hurricane Sandy/reals/sandyB_real_82.jpg     \b\b\b\b 82%\b\b\b\b\b  OK \n",
            "Extracting  Medieval2015_DevSet_Images/Hurricane Sandy/reals/sandyB_real_83.jpg     \b\b\b\b 82%\b\b\b\b\b  OK \n",
            "Extracting  Medieval2015_DevSet_Images/Hurricane Sandy/reals/sandyB_real_84.jpg     \b\b\b\b 82%\b\b\b\b 83%\b\b\b\b\b  OK \n",
            "Extracting  Medieval2015_DevSet_Images/Hurricane Sandy/reals/sandyB_real_85.jpg     \b\b\b\b 83%\b\b\b\b\b  OK \n",
            "Extracting  Medieval2015_DevSet_Images/Hurricane Sandy/reals/sandyB_real_86.jpg     \b\b\b\b 83%\b\b\b\b\b  OK \n",
            "Extracting  Medieval2015_DevSet_Images/Hurricane Sandy/reals/sandyB_real_88.jpg     \b\b\b\b 83%\b\b\b\b\b  OK \n",
            "Extracting  Medieval2015_DevSet_Images/Hurricane Sandy/reals/sandyB_real_89.jpg     \b\b\b\b 83%\b\b\b\b\b  OK \n",
            "Extracting  Medieval2015_DevSet_Images/Hurricane Sandy/reals/sandyB_real_90.png     \b\b\b\b 84%\b\b\b\b\b  OK \n",
            "Extracting  Medieval2015_DevSet_Images/Hurricane Sandy/reals/sandyB_real_91.jpg     \b\b\b\b 84%\b\b\b\b\b  OK \n",
            "Extracting  Medieval2015_DevSet_Images/Hurricane Sandy/reals/sandyB_real_92.jpg     \b\b\b\b 84%\b\b\b\b\b  OK \n",
            "Extracting  Medieval2015_DevSet_Images/Hurricane Sandy/reals/sandyB_real_93.jpg     \b\b\b\b 85%\b\b\b\b\b  OK \n",
            "Extracting  Medieval2015_DevSet_Images/Hurricane Sandy/reals/sandyB_real_94.jpg     \b\b\b\b 85%\b\b\b\b\b  OK \n",
            "Extracting  Medieval2015_DevSet_Images/Hurricane Sandy/reals/sandyB_real_95.jpg     \b\b\b\b 85%\b\b\b\b\b  OK \n",
            "Extracting  Medieval2015_DevSet_Images/Hurricane Sandy/reals/sandyB_real_96.jpg     \b\b\b\b 85%\b\b\b\b\b  OK \n",
            "Extracting  Medieval2015_DevSet_Images/Hurricane Sandy/reals/sandyB_real_98.jpg     \b\b\b\b 85%\b\b\b\b\b  OK \n",
            "Extracting  Medieval2015_DevSet_Images/Hurricane Sandy/reals/sandyB_real_99.jpg     \b\b\b\b 85%\b\b\b\b\b  OK \n",
            "Creating    Medieval2015_DevSet_Images/Livr                           OK\n",
            "Creating    Medieval2015_DevSet_Images/Livr/fakes                     OK\n",
            "Extracting  Medieval2015_DevSet_Images/Livr/fakes/livr_01.jpg            \b\b\b\b 86%\b\b\b\b\b  OK \n",
            "Extracting  Medieval2015_DevSet_Images/Livr/fakes/livr_02.jpg            \b\b\b\b 86%\b\b\b\b\b  OK \n",
            "Extracting  Medieval2015_DevSet_Images/Livr/fakes/livr_03.jpg            \b\b\b\b 86%\b\b\b\b\b  OK \n",
            "Extracting  Medieval2015_DevSet_Images/Livr/fakes/livr_04.jpg            \b\b\b\b 86%\b\b\b\b\b  OK \n",
            "Creating    Medieval2015_DevSet_Images/Malaysia Airlines              OK\n",
            "Extracting  Medieval2015_DevSet_Images/Malaysia Airlines/malaysia_fake_01.jpg     \b\b\b\b 86%\b\b\b\b\b  OK \n",
            "Extracting  Medieval2015_DevSet_Images/Malaysia Airlines/malaysia_fake_02.jpg     \b\b\b\b 86%\b\b\b\b\b  OK \n",
            "Extracting  Medieval2015_DevSet_Images/Malaysia Airlines/malaysia_fake_03.jpg     \b\b\b\b 86%\b\b\b\b\b  OK \n",
            "Extracting  Medieval2015_DevSet_Images/Malaysia Airlines/malaysia_fake_04.jpg     \b\b\b\b 86%\b\b\b\b\b  OK \n",
            "Extracting  Medieval2015_DevSet_Images/Malaysia Airlines/malaysia_fake_05.jpg     \b\b\b\b 87%\b\b\b\b\b  OK \n",
            "Extracting  Medieval2015_DevSet_Images/Malaysia Airlines/malaysia_fake_06.jpg     \b\b\b\b 87%\b\b\b\b\b  OK \n",
            "Extracting  Medieval2015_DevSet_Images/Malaysia Airlines/malaysia_fake_07.jpg     \b\b\b\b 87%\b\b\b\b\b  OK \n",
            "Extracting  Medieval2015_DevSet_Images/Malaysia Airlines/malaysia_fake_08.jpg     \b\b\b\b 87%\b\b\b\b\b  OK \n",
            "Extracting  Medieval2015_DevSet_Images/Malaysia Airlines/malaysia_fake_09.jpg     \b\b\b\b 87%\b\b\b\b\b  OK \n",
            "Extracting  Medieval2015_DevSet_Images/Malaysia Airlines/malaysia_fake_10.jpg     \b\b\b\b 87%\b\b\b\b\b  OK \n",
            "Extracting  Medieval2015_DevSet_Images/Malaysia Airlines/malaysia_fake_11.jpg     \b\b\b\b 87%\b\b\b\b\b  OK \n",
            "Extracting  Medieval2015_DevSet_Images/Malaysia Airlines/malaysia_fake_12.jpg     \b\b\b\b 87%\b\b\b\b\b  OK \n",
            "Extracting  Medieval2015_DevSet_Images/Malaysia Airlines/malaysia_fake_13.jpg     \b\b\b\b 87%\b\b\b\b\b  OK \n",
            "Extracting  Medieval2015_DevSet_Images/Malaysia Airlines/malaysia_fake_14.jpg     \b\b\b\b 87%\b\b\b\b\b  OK \n",
            "Extracting  Medieval2015_DevSet_Images/Malaysia Airlines/malaysia_fake_15.jpg     \b\b\b\b 87%\b\b\b\b\b  OK \n",
            "Extracting  Medieval2015_DevSet_Images/Malaysia Airlines/malaysia_fake_16.jpg     \b\b\b\b 87%\b\b\b\b\b  OK \n",
            "Extracting  Medieval2015_DevSet_Images/Malaysia Airlines/malaysia_fake_17.png     \b\b\b\b 87%\b\b\b\b 88%\b\b\b\b\b  OK \n",
            "Extracting  Medieval2015_DevSet_Images/Malaysia Airlines/malaysia_fake_18.jpg     \b\b\b\b 88%\b\b\b\b\b  OK \n",
            "Extracting  Medieval2015_DevSet_Images/Malaysia Airlines/malaysia_fake_19.png     \b\b\b\b 88%\b\b\b\b\b  OK \n",
            "Extracting  Medieval2015_DevSet_Images/Malaysia Airlines/malaysia_fake_20.jpg     \b\b\b\b 88%\b\b\b\b\b  OK \n",
            "Extracting  Medieval2015_DevSet_Images/Malaysia Airlines/malaysia_fake_21.jpg     \b\b\b\b 89%\b\b\b\b\b  OK \n",
            "Extracting  Medieval2015_DevSet_Images/Malaysia Airlines/malaysia_fake_22.jpg     \b\b\b\b 89%\b\b\b\b\b  OK \n",
            "Extracting  Medieval2015_DevSet_Images/Malaysia Airlines/malaysia_fake_23.jpg     \b\b\b\b 89%\b\b\b\b 90%\b\b\b\b 91%\b\b\b\b\b  OK \n",
            "Extracting  Medieval2015_DevSet_Images/Malaysia Airlines/malaysia_fake_24.jpg     \b\b\b\b 91%\b\b\b\b\b  OK \n",
            "Extracting  Medieval2015_DevSet_Images/Malaysia Airlines/malaysia_fake_25.jpg     \b\b\b\b 91%\b\b\b\b\b  OK \n",
            "Extracting  Medieval2015_DevSet_Images/Malaysia Airlines/malaysia_fake_26.jpg     \b\b\b\b 92%\b\b\b\b\b  OK \n",
            "Extracting  Medieval2015_DevSet_Images/Malaysia Airlines/malaysia_fake_27.jpg     \b\b\b\b 92%\b\b\b\b\b  OK \n",
            "Extracting  Medieval2015_DevSet_Images/Malaysia Airlines/malaysia_fake_28.jpg     \b\b\b\b 92%\b\b\b\b\b  OK \n",
            "Extracting  Medieval2015_DevSet_Images/Malaysia Airlines/malaysia_fake_29.jpg     \b\b\b\b 92%\b\b\b\b\b  OK \n",
            "Creating    Medieval2015_DevSet_Images/Passport                       OK\n",
            "Creating    Medieval2015_DevSet_Images/Passport/fakes                 OK\n",
            "Extracting  Medieval2015_DevSet_Images/Passport/fakes/passport_01.jpg     \b\b\b\b 92%\b\b\b\b\b  OK \n",
            "Extracting  Medieval2015_DevSet_Images/Passport/fakes/passport_02.jpg     \b\b\b\b 92%\b\b\b\b\b  OK \n",
            "Creating    Medieval2015_DevSet_Images/Pig Fish                       OK\n",
            "Creating    Medieval2015_DevSet_Images/Pig Fish/fakes                 OK\n",
            "Extracting  Medieval2015_DevSet_Images/Pig Fish/fakes/pigFish_01.jpg     \b\b\b\b 92%\b\b\b\b\b  OK \n",
            "Creating    Medieval2015_DevSet_Images/Rock Elephant                  OK\n",
            "Creating    Medieval2015_DevSet_Images/Rock Elephant/fakes            OK\n",
            "Extracting  Medieval2015_DevSet_Images/Rock Elephant/fakes/elephant_fake_01.jpg     \b\b\b\b 92%\b\b\b\b 93%\b\b\b\b\b  OK \n",
            "Creating    Medieval2015_DevSet_Images/Sochi Olympics                 OK\n",
            "Creating    Medieval2015_DevSet_Images/Sochi Olympics/fakes           OK\n",
            "Extracting  Medieval2015_DevSet_Images/Sochi Olympics/fakes/sochi_fake_0.jpg     \b\b\b\b 93%\b\b\b\b\b  OK \n",
            "Extracting  Medieval2015_DevSet_Images/Sochi Olympics/fakes/sochi_fake_1.jpg     \b\b\b\b 93%\b\b\b\b\b  OK \n",
            "Extracting  Medieval2015_DevSet_Images/Sochi Olympics/fakes/sochi_fake_10.jpg     \b\b\b\b 93%\b\b\b\b\b  OK \n",
            "Extracting  Medieval2015_DevSet_Images/Sochi Olympics/fakes/sochi_fake_11.jpg     \b\b\b\b 93%\b\b\b\b\b  OK \n",
            "Extracting  Medieval2015_DevSet_Images/Sochi Olympics/fakes/sochi_fake_12.jpg     \b\b\b\b 93%\b\b\b\b\b  OK \n",
            "Extracting  Medieval2015_DevSet_Images/Sochi Olympics/fakes/sochi_fake_13.jpg     \b\b\b\b 93%\b\b\b\b 94%\b\b\b\b\b  OK \n",
            "Extracting  Medieval2015_DevSet_Images/Sochi Olympics/fakes/sochi_fake_14.jpg     \b\b\b\b 94%\b\b\b\b\b  OK \n",
            "Extracting  Medieval2015_DevSet_Images/Sochi Olympics/fakes/sochi_fake_15.jpg     \b\b\b\b 94%\b\b\b\b\b  OK \n",
            "Extracting  Medieval2015_DevSet_Images/Sochi Olympics/fakes/sochi_fake_16.jpg     \b\b\b\b 94%\b\b\b\b\b  OK \n",
            "Extracting  Medieval2015_DevSet_Images/Sochi Olympics/fakes/sochi_fake_17.jpg     \b\b\b\b 94%\b\b\b\b\b  OK \n",
            "Extracting  Medieval2015_DevSet_Images/Sochi Olympics/fakes/sochi_fake_18.jpg     \b\b\b\b 94%\b\b\b\b\b  OK \n",
            "Extracting  Medieval2015_DevSet_Images/Sochi Olympics/fakes/sochi_fake_19.png     \b\b\b\b 94%\b\b\b\b 95%\b\b\b\b 96%\b\b\b\b\b  OK \n",
            "Extracting  Medieval2015_DevSet_Images/Sochi Olympics/fakes/sochi_fake_2.jpg     \b\b\b\b 96%\b\b\b\b\b  OK \n",
            "Extracting  Medieval2015_DevSet_Images/Sochi Olympics/fakes/sochi_fake_20.jpg     \b\b\b\b 96%\b\b\b\b\b  OK \n",
            "Extracting  Medieval2015_DevSet_Images/Sochi Olympics/fakes/sochi_fake_21.jpg     \b\b\b\b 96%\b\b\b\b\b  OK \n",
            "Extracting  Medieval2015_DevSet_Images/Sochi Olympics/fakes/sochi_fake_22.jpg     \b\b\b\b 96%\b\b\b\b\b  OK \n",
            "Extracting  Medieval2015_DevSet_Images/Sochi Olympics/fakes/sochi_fake_23.jpg     \b\b\b\b 96%\b\b\b\b\b  OK \n",
            "Extracting  Medieval2015_DevSet_Images/Sochi Olympics/fakes/sochi_fake_24.jpg     \b\b\b\b 96%\b\b\b\b\b  OK \n",
            "Extracting  Medieval2015_DevSet_Images/Sochi Olympics/fakes/sochi_fake_25.jpg     \b\b\b\b 97%\b\b\b\b\b  OK \n",
            "Extracting  Medieval2015_DevSet_Images/Sochi Olympics/fakes/sochi_fake_3.jpg     \b\b\b\b 97%\b\b\b\b\b  OK \n",
            "Extracting  Medieval2015_DevSet_Images/Sochi Olympics/fakes/sochi_fake_4.jpg     \b\b\b\b 97%\b\b\b\b\b  OK \n",
            "Extracting  Medieval2015_DevSet_Images/Sochi Olympics/fakes/sochi_fake_5.jpg     \b\b\b\b 97%\b\b\b\b\b  OK \n",
            "Extracting  Medieval2015_DevSet_Images/Sochi Olympics/fakes/sochi_fake_6.jpg     \b\b\b\b 97%\b\b\b\b 98%\b\b\b\b\b  OK \n",
            "Extracting  Medieval2015_DevSet_Images/Sochi Olympics/fakes/sochi_fake_7.jpg     \b\b\b\b 99%\b\b\b\b\b  OK \n",
            "Extracting  Medieval2015_DevSet_Images/Sochi Olympics/fakes/sochi_fake_8.jpg     \b\b\b\b 99%\b\b\b\b\b  OK \n",
            "Extracting  Medieval2015_DevSet_Images/Sochi Olympics/fakes/sochi_fake_9.jpg     \b\b\b\b 99%\b\b\b\b\b  OK \n",
            "Creating    Medieval2015_DevSet_Images/Underwater bedroom             OK\n",
            "Creating    Medieval2015_DevSet_Images/Underwater bedroom/fakes       OK\n",
            "Extracting  Medieval2015_DevSet_Images/Underwater bedroom/fakes/underwater_fake_01.jpg     \b\b\b\b 99%\b\b\b\b\b  OK \n",
            "Extracting  Medieval2015_DevSet_Images/Underwater bedroom/fakes/underwater_fake_02.jpg     \b\b\b\b 99%\b\b\b\b\b  OK \n",
            "Extracting  Medieval2015_DevSet_Images/Underwater bedroom/fakes/underwater_fake_03.jpg     \b\b\b\b 99%\b\b\b\b\b  OK \n",
            "All OK\n"
          ]
        }
      ]
    },
    {
      "cell_type": "code",
      "source": [
        "import os"
      ],
      "metadata": {
        "id": "SJY8s8ufcPvT"
      },
      "execution_count": 46,
      "outputs": []
    },
    {
      "cell_type": "code",
      "source": [
        "os.listdir(\"/content/Medieval2015_DevSet_Images\")"
      ],
      "metadata": {
        "colab": {
          "base_uri": "https://localhost:8080/"
        },
        "id": "NYjbThcecd1U",
        "outputId": "8ee662e7-9844-4a04-a6bd-a183fefee283"
      },
      "execution_count": 47,
      "outputs": [
        {
          "output_type": "execute_result",
          "data": {
            "text/plain": [
              "['BostonMarathon',\n",
              " 'Rock Elephant',\n",
              " 'Underwater bedroom',\n",
              " 'Sochi Olympics',\n",
              " 'Pig Fish',\n",
              " 'Malaysia Airlines',\n",
              " 'Columbian Chemicals',\n",
              " 'Passport',\n",
              " 'Livr',\n",
              " 'Bring Back Our Girls',\n",
              " 'Hurricane Sandy']"
            ]
          },
          "metadata": {},
          "execution_count": 47
        }
      ]
    },
    {
      "cell_type": "code",
      "source": [
        "# os.mkdir(\"dataset_images\")\n",
        "# os.mkdir(\"dataset_images/fake\")\n",
        "# os.mkdir(\"dataset_images/real\")"
      ],
      "metadata": {
        "id": "kqLoWT0OcheR"
      },
      "execution_count": 48,
      "outputs": []
    },
    {
      "cell_type": "code",
      "source": [
        "import glob\n",
        "import shutil\n",
        "import os"
      ],
      "metadata": {
        "id": "YgzXrvfJdBbT"
      },
      "execution_count": 49,
      "outputs": []
    },
    {
      "cell_type": "code",
      "source": [
        "from distutils.dir_util import copy_tree"
      ],
      "metadata": {
        "id": "FUoAMSuceZUC"
      },
      "execution_count": 50,
      "outputs": []
    },
    {
      "cell_type": "code",
      "source": [
        "# for path in os.listdir(\"/content/Medieval2015_DevSet_Images\"):\n",
        "#     dirs = os.listdir(\"/content/Medieval2015_DevSet_Images/\"+path)\n",
        "#     for d in dirs:\n",
        "#         if d==\"fakes\":\n",
        "#             copy_tree(\"/content/Medieval2015_DevSet_Images/\"+path+\"/\"+d, \"/content/dataset_images/fake\")\n",
        "#         elif d==\"reals\":\n",
        "#             copy_tree(\"/content/Medieval2015_DevSet_Images/\"+path+\"/\"+d, \"/content/dataset_images/real\")\n",
        "#         else:\n",
        "#           continue"
      ],
      "metadata": {
        "id": "cLBXaCM8cpGn"
      },
      "execution_count": 51,
      "outputs": []
    },
    {
      "cell_type": "code",
      "source": [
        "batch_size = 32\n",
        "img_height = 180\n",
        "img_width = 180\n",
        "\n",
        "data_dir = \"dataset_images\"\n",
        "\n",
        "train_ds = tf.keras.utils.image_dataset_from_directory(\n",
        "  data_dir,\n",
        "  validation_split=0.2,\n",
        "  subset=\"training\",\n",
        "  seed=123,\n",
        "  image_size=(img_height, img_width),\n",
        "  batch_size=batch_size)"
      ],
      "metadata": {
        "colab": {
          "base_uri": "https://localhost:8080/"
        },
        "id": "uot45ZxXdTqk",
        "outputId": "c0b1081a-2b40-4665-e804-c65977b60250"
      },
      "execution_count": 52,
      "outputs": [
        {
          "output_type": "stream",
          "name": "stdout",
          "text": [
            "Found 331 files belonging to 2 classes.\n",
            "Using 265 files for training.\n"
          ]
        }
      ]
    },
    {
      "cell_type": "code",
      "source": [
        "class_names = train_ds.class_names"
      ],
      "metadata": {
        "id": "jld-5xw4fRUY"
      },
      "execution_count": 53,
      "outputs": []
    },
    {
      "cell_type": "code",
      "source": [
        "for image_batch, labels_batch in train_ds:\n",
        "  print(image_batch.shape)\n",
        "  print(labels_batch.shape)\n",
        "  break"
      ],
      "metadata": {
        "colab": {
          "base_uri": "https://localhost:8080/"
        },
        "id": "t2-qk8zsfXBH",
        "outputId": "37c10826-f4f8-44d6-d2a1-6b7e4017d236"
      },
      "execution_count": 54,
      "outputs": [
        {
          "output_type": "stream",
          "name": "stdout",
          "text": [
            "(32, 180, 180, 3)\n",
            "(32,)\n"
          ]
        }
      ]
    },
    {
      "cell_type": "code",
      "source": [
        "normalization_layer = layers.Rescaling(1./255)"
      ],
      "metadata": {
        "id": "v-Yg_ZbJfaRU"
      },
      "execution_count": 55,
      "outputs": []
    },
    {
      "cell_type": "code",
      "source": [
        "normalized_ds = train_ds.map(lambda x, y: (normalization_layer(x), y))\n",
        "image_batch, labels_batch = next(iter(normalized_ds))\n",
        "first_image = image_batch[0]\n",
        "print(np.min(first_image), np.max(first_image))"
      ],
      "metadata": {
        "colab": {
          "base_uri": "https://localhost:8080/"
        },
        "id": "USDBHM5Yff1V",
        "outputId": "fbf5335b-a8b1-454e-a70f-b1ffc74e263d"
      },
      "execution_count": 56,
      "outputs": [
        {
          "output_type": "stream",
          "name": "stderr",
          "text": [
            "WARNING:tensorflow:From /usr/local/lib/python3.9/dist-packages/tensorflow/python/autograph/pyct/static_analysis/liveness.py:83: Analyzer.lamba_check (from tensorflow.python.autograph.pyct.static_analysis.liveness) is deprecated and will be removed after 2023-09-23.\n",
            "Instructions for updating:\n",
            "Lambda fuctions will be no more assumed to be used in the statement where they are used, or at least in the same block. https://github.com/tensorflow/tensorflow/issues/56089\n"
          ]
        },
        {
          "output_type": "stream",
          "name": "stdout",
          "text": [
            "0.0006699506 1.0\n"
          ]
        }
      ]
    },
    {
      "cell_type": "code",
      "source": [
        "num_classes = len(class_names)\n",
        "\n",
        "cnnmodel = Sequential([\n",
        "  layers.Rescaling(1./255, input_shape=(img_height, img_width, 3)),\n",
        "  layers.Conv2D(16, 3, padding='same', activation='relu'),\n",
        "  layers.MaxPooling2D(),\n",
        "  layers.Conv2D(32, 3, padding='same', activation='relu'),\n",
        "  layers.MaxPooling2D(),\n",
        "  layers.Conv2D(64, 3, padding='same', activation='relu'),\n",
        "  layers.MaxPooling2D(),\n",
        "  layers.Flatten(),\n",
        "  layers.Dense(128, activation='relu'),\n",
        "  layers.Dense(num_classes)\n",
        "])"
      ],
      "metadata": {
        "id": "Ue_Y1eHZfkM9"
      },
      "execution_count": 62,
      "outputs": []
    },
    {
      "cell_type": "code",
      "source": [
        "checkpoint= ModelCheckpoint(filepath=\"proj3_1.hdf5\", verbose=1, save_best_only=True)\n",
        "\n",
        "monitor = EarlyStopping(monitor='val_loss', min_delta=1e-5, patience=10, verbose=1, mode='auto')\n",
        "\n",
        "textmodel = Sequential()\n",
        "textmodel.add(Embedding(vocab_size, 200, weights=[embedding_matrix], input_length=max_length, trainable=False))\n",
        "textmodel.add(Flatten())\n",
        "textmodel.add(Dense(2, activation='sigmoid'))"
      ],
      "metadata": {
        "id": "3GdZZGRDCJyn"
      },
      "execution_count": 63,
      "outputs": []
    },
    {
      "cell_type": "code",
      "source": [
        "#concatenate\n",
        "model = Sequential()\n",
        "model.add(Concatenate([cnnmodel, textmodel]))"
      ],
      "metadata": {
        "id": "JelyuKAtFb52"
      },
      "execution_count": 68,
      "outputs": []
    },
    {
      "cell_type": "code",
      "source": [],
      "metadata": {
        "id": "jcD6jWZXF4_o"
      },
      "execution_count": 68,
      "outputs": []
    },
    {
      "cell_type": "code",
      "source": [
        "# compile the model\n",
        "model.compile(optimizer='adam', loss='mean_squared_error', metrics=['accuracy'])\n",
        "# summarize the model\n",
        "print(model.summary())"
      ],
      "metadata": {
        "id": "ng31F4b8Fao2"
      },
      "execution_count": null,
      "outputs": []
    },
    {
      "cell_type": "code",
      "source": [],
      "metadata": {
        "id": "QkzUxMmTfnGA"
      },
      "execution_count": 61,
      "outputs": []
    },
    {
      "cell_type": "code",
      "source": [
        "model.fit(X_train, y_train, epochs=50, verbose=1, callbacks=[monitor,checkpoint], validation_data=(X_test,y_test))"
      ],
      "metadata": {
        "id": "qKjhPEimf262"
      },
      "execution_count": null,
      "outputs": []
    },
    {
      "cell_type": "code",
      "source": [],
      "metadata": {
        "id": "9z1bA4aRf3el"
      },
      "execution_count": null,
      "outputs": []
    }
  ]
}